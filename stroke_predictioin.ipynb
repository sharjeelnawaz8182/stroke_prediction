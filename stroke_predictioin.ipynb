{
  "nbformat": 4,
  "nbformat_minor": 0,
  "metadata": {
    "colab": {
      "name": "stroke_predictioin.ipynb",
      "provenance": [],
      "collapsed_sections": [],
      "authorship_tag": "ABX9TyO/vsUPmRJeLuiQkKtY5oS5",
      "include_colab_link": true
    },
    "kernelspec": {
      "name": "python3",
      "display_name": "Python 3"
    },
    "language_info": {
      "name": "python"
    }
  },
  "cells": [
    {
      "cell_type": "markdown",
      "metadata": {
        "id": "view-in-github",
        "colab_type": "text"
      },
      "source": [
        "<a href=\"https://colab.research.google.com/github/sharjeelnawaz8182/stroke_prediction/blob/main/stroke_predictioin.ipynb\" target=\"_parent\"><img src=\"https://colab.research.google.com/assets/colab-badge.svg\" alt=\"Open In Colab\"/></a>"
      ]
    },
    {
      "cell_type": "code",
      "metadata": {
        "colab": {
          "resources": {
            "http://localhost:8080/nbextensions/google.colab/files.js": {
              "data": "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",
              "ok": true,
              "headers": [
                [
                  "content-type",
                  "application/javascript"
                ]
              ],
              "status": 200,
              "status_text": "OK"
            }
          },
          "base_uri": "https://localhost:8080/",
          "height": 77
        },
        "id": "kbj8c7AsYR3r",
        "outputId": "f70c09c6-426d-4f01-a2e5-47d675462532"
      },
      "source": [
        "import pandas as pd\n",
        "from google.colab import files\n",
        "import io\n",
        "from sklearn.model_selection import train_test_split\n",
        "from matplotlib import pyplot\n",
        "uploaded = files.upload()"
      ],
      "execution_count": null,
      "outputs": [
        {
          "output_type": "display_data",
          "data": {
            "text/html": [
              "\n",
              "     <input type=\"file\" id=\"files-e12758b3-18bf-4955-909f-89284deec573\" name=\"files[]\" multiple disabled\n",
              "        style=\"border:none\" />\n",
              "     <output id=\"result-e12758b3-18bf-4955-909f-89284deec573\">\n",
              "      Upload widget is only available when the cell has been executed in the\n",
              "      current browser session. Please rerun this cell to enable.\n",
              "      </output>\n",
              "      <script src=\"/nbextensions/google.colab/files.js\"></script> "
            ],
            "text/plain": [
              "<IPython.core.display.HTML object>"
            ]
          },
          "metadata": {
            "tags": []
          }
        },
        {
          "output_type": "stream",
          "text": [
            "Saving healthcare-dataset-stroke-data.csv to healthcare-dataset-stroke-data.csv\n"
          ],
          "name": "stdout"
        }
      ]
    },
    {
      "cell_type": "code",
      "metadata": {
        "id": "rKJmK6k0YZRi"
      },
      "source": [
        "df = pd.read_csv(io.BytesIO(uploaded['healthcare-dataset-stroke-data.csv']))"
      ],
      "execution_count": null,
      "outputs": []
    },
    {
      "cell_type": "code",
      "metadata": {
        "id": "_gyWZZPRCE1j"
      },
      "source": [
        "import seaborn as sns\n",
        "import numpy as np"
      ],
      "execution_count": null,
      "outputs": []
    },
    {
      "cell_type": "code",
      "metadata": {
        "colab": {
          "base_uri": "https://localhost:8080/",
          "height": 496
        },
        "id": "8nDYVApxY2yw",
        "outputId": "436d4e07-7058-4679-f594-765c82668d42"
      },
      "source": [
        "df.head(-40)"
      ],
      "execution_count": null,
      "outputs": [
        {
          "output_type": "execute_result",
          "data": {
            "text/html": [
              "<div>\n",
              "<style scoped>\n",
              "    .dataframe tbody tr th:only-of-type {\n",
              "        vertical-align: middle;\n",
              "    }\n",
              "\n",
              "    .dataframe tbody tr th {\n",
              "        vertical-align: top;\n",
              "    }\n",
              "\n",
              "    .dataframe thead th {\n",
              "        text-align: right;\n",
              "    }\n",
              "</style>\n",
              "<table border=\"1\" class=\"dataframe\">\n",
              "  <thead>\n",
              "    <tr style=\"text-align: right;\">\n",
              "      <th></th>\n",
              "      <th>id</th>\n",
              "      <th>gender</th>\n",
              "      <th>age</th>\n",
              "      <th>hypertension</th>\n",
              "      <th>heart_disease</th>\n",
              "      <th>ever_married</th>\n",
              "      <th>work_type</th>\n",
              "      <th>Residence_type</th>\n",
              "      <th>avg_glucose_level</th>\n",
              "      <th>bmi</th>\n",
              "      <th>smoking_status</th>\n",
              "      <th>stroke</th>\n",
              "    </tr>\n",
              "  </thead>\n",
              "  <tbody>\n",
              "    <tr>\n",
              "      <th>0</th>\n",
              "      <td>9046</td>\n",
              "      <td>Male</td>\n",
              "      <td>67.0</td>\n",
              "      <td>0</td>\n",
              "      <td>1</td>\n",
              "      <td>Yes</td>\n",
              "      <td>Private</td>\n",
              "      <td>Urban</td>\n",
              "      <td>228.69</td>\n",
              "      <td>36.6</td>\n",
              "      <td>formerly smoked</td>\n",
              "      <td>1</td>\n",
              "    </tr>\n",
              "    <tr>\n",
              "      <th>1</th>\n",
              "      <td>51676</td>\n",
              "      <td>Female</td>\n",
              "      <td>61.0</td>\n",
              "      <td>0</td>\n",
              "      <td>0</td>\n",
              "      <td>Yes</td>\n",
              "      <td>Self-employed</td>\n",
              "      <td>Rural</td>\n",
              "      <td>202.21</td>\n",
              "      <td>NaN</td>\n",
              "      <td>never smoked</td>\n",
              "      <td>1</td>\n",
              "    </tr>\n",
              "    <tr>\n",
              "      <th>2</th>\n",
              "      <td>31112</td>\n",
              "      <td>Male</td>\n",
              "      <td>80.0</td>\n",
              "      <td>0</td>\n",
              "      <td>1</td>\n",
              "      <td>Yes</td>\n",
              "      <td>Private</td>\n",
              "      <td>Rural</td>\n",
              "      <td>105.92</td>\n",
              "      <td>32.5</td>\n",
              "      <td>never smoked</td>\n",
              "      <td>1</td>\n",
              "    </tr>\n",
              "    <tr>\n",
              "      <th>3</th>\n",
              "      <td>60182</td>\n",
              "      <td>Female</td>\n",
              "      <td>49.0</td>\n",
              "      <td>0</td>\n",
              "      <td>0</td>\n",
              "      <td>Yes</td>\n",
              "      <td>Private</td>\n",
              "      <td>Urban</td>\n",
              "      <td>171.23</td>\n",
              "      <td>34.4</td>\n",
              "      <td>smokes</td>\n",
              "      <td>1</td>\n",
              "    </tr>\n",
              "    <tr>\n",
              "      <th>4</th>\n",
              "      <td>1665</td>\n",
              "      <td>Female</td>\n",
              "      <td>79.0</td>\n",
              "      <td>1</td>\n",
              "      <td>0</td>\n",
              "      <td>Yes</td>\n",
              "      <td>Self-employed</td>\n",
              "      <td>Rural</td>\n",
              "      <td>174.12</td>\n",
              "      <td>24.0</td>\n",
              "      <td>never smoked</td>\n",
              "      <td>1</td>\n",
              "    </tr>\n",
              "    <tr>\n",
              "      <th>...</th>\n",
              "      <td>...</td>\n",
              "      <td>...</td>\n",
              "      <td>...</td>\n",
              "      <td>...</td>\n",
              "      <td>...</td>\n",
              "      <td>...</td>\n",
              "      <td>...</td>\n",
              "      <td>...</td>\n",
              "      <td>...</td>\n",
              "      <td>...</td>\n",
              "      <td>...</td>\n",
              "      <td>...</td>\n",
              "    </tr>\n",
              "    <tr>\n",
              "      <th>5065</th>\n",
              "      <td>7789</td>\n",
              "      <td>Female</td>\n",
              "      <td>31.0</td>\n",
              "      <td>0</td>\n",
              "      <td>0</td>\n",
              "      <td>Yes</td>\n",
              "      <td>Private</td>\n",
              "      <td>Urban</td>\n",
              "      <td>89.01</td>\n",
              "      <td>37.4</td>\n",
              "      <td>never smoked</td>\n",
              "      <td>0</td>\n",
              "    </tr>\n",
              "    <tr>\n",
              "      <th>5066</th>\n",
              "      <td>40112</td>\n",
              "      <td>Female</td>\n",
              "      <td>37.0</td>\n",
              "      <td>0</td>\n",
              "      <td>0</td>\n",
              "      <td>No</td>\n",
              "      <td>Private</td>\n",
              "      <td>Urban</td>\n",
              "      <td>118.41</td>\n",
              "      <td>25.1</td>\n",
              "      <td>never smoked</td>\n",
              "      <td>0</td>\n",
              "    </tr>\n",
              "    <tr>\n",
              "      <th>5067</th>\n",
              "      <td>65814</td>\n",
              "      <td>Male</td>\n",
              "      <td>21.0</td>\n",
              "      <td>0</td>\n",
              "      <td>0</td>\n",
              "      <td>No</td>\n",
              "      <td>Private</td>\n",
              "      <td>Urban</td>\n",
              "      <td>138.51</td>\n",
              "      <td>24.3</td>\n",
              "      <td>never smoked</td>\n",
              "      <td>0</td>\n",
              "    </tr>\n",
              "    <tr>\n",
              "      <th>5068</th>\n",
              "      <td>49598</td>\n",
              "      <td>Male</td>\n",
              "      <td>80.0</td>\n",
              "      <td>0</td>\n",
              "      <td>0</td>\n",
              "      <td>Yes</td>\n",
              "      <td>Self-employed</td>\n",
              "      <td>Urban</td>\n",
              "      <td>120.03</td>\n",
              "      <td>24.3</td>\n",
              "      <td>formerly smoked</td>\n",
              "      <td>0</td>\n",
              "    </tr>\n",
              "    <tr>\n",
              "      <th>5069</th>\n",
              "      <td>15599</td>\n",
              "      <td>Female</td>\n",
              "      <td>21.0</td>\n",
              "      <td>0</td>\n",
              "      <td>0</td>\n",
              "      <td>No</td>\n",
              "      <td>Private</td>\n",
              "      <td>Urban</td>\n",
              "      <td>91.01</td>\n",
              "      <td>28.7</td>\n",
              "      <td>never smoked</td>\n",
              "      <td>0</td>\n",
              "    </tr>\n",
              "  </tbody>\n",
              "</table>\n",
              "<p>5070 rows × 12 columns</p>\n",
              "</div>"
            ],
            "text/plain": [
              "         id  gender   age  ...   bmi   smoking_status stroke\n",
              "0      9046    Male  67.0  ...  36.6  formerly smoked      1\n",
              "1     51676  Female  61.0  ...   NaN     never smoked      1\n",
              "2     31112    Male  80.0  ...  32.5     never smoked      1\n",
              "3     60182  Female  49.0  ...  34.4           smokes      1\n",
              "4      1665  Female  79.0  ...  24.0     never smoked      1\n",
              "...     ...     ...   ...  ...   ...              ...    ...\n",
              "5065   7789  Female  31.0  ...  37.4     never smoked      0\n",
              "5066  40112  Female  37.0  ...  25.1     never smoked      0\n",
              "5067  65814    Male  21.0  ...  24.3     never smoked      0\n",
              "5068  49598    Male  80.0  ...  24.3  formerly smoked      0\n",
              "5069  15599  Female  21.0  ...  28.7     never smoked      0\n",
              "\n",
              "[5070 rows x 12 columns]"
            ]
          },
          "metadata": {
            "tags": []
          },
          "execution_count": 427
        }
      ]
    },
    {
      "cell_type": "code",
      "metadata": {
        "id": "rff_gDWStFu5"
      },
      "source": [
        "df.drop(columns='id',inplace=True)"
      ],
      "execution_count": null,
      "outputs": []
    },
    {
      "cell_type": "code",
      "metadata": {
        "colab": {
          "base_uri": "https://localhost:8080/"
        },
        "id": "JpsIODS6aIJ-",
        "outputId": "d791f58c-f991-4261-fbda-9f1580ac4eae"
      },
      "source": [
        "df.isnull().sum()"
      ],
      "execution_count": null,
      "outputs": [
        {
          "output_type": "execute_result",
          "data": {
            "text/plain": [
              "gender                 0\n",
              "age                    0\n",
              "hypertension           0\n",
              "heart_disease          0\n",
              "ever_married           0\n",
              "work_type              0\n",
              "Residence_type         0\n",
              "avg_glucose_level      0\n",
              "bmi                  201\n",
              "smoking_status         0\n",
              "stroke                 0\n",
              "dtype: int64"
            ]
          },
          "metadata": {
            "tags": []
          },
          "execution_count": 429
        }
      ]
    },
    {
      "cell_type": "code",
      "metadata": {
        "colab": {
          "base_uri": "https://localhost:8080/",
          "height": 1000
        },
        "id": "kPBKgYt2ByK9",
        "outputId": "02ea2f7c-0cfc-4202-abdf-535879b031fd"
      },
      "source": [
        "sns.pairplot(df)"
      ],
      "execution_count": null,
      "outputs": [
        {
          "output_type": "execute_result",
          "data": {
            "text/plain": [
              "<seaborn.axisgrid.PairGrid at 0x7f70f5d835d0>"
            ]
          },
          "metadata": {
            "tags": []
          },
          "execution_count": 430
        },
        {
          "output_type": "display_data",
          "data": {
            "image/png": "[encoded data removed]",
            "text/plain": [
              "<Figure size 1080x1080 with 42 Axes>"
            ]
          },
          "metadata": {
            "tags": [],
            "needs_background": "light"
          }
        }
      ]
    },
    {
      "cell_type": "code",
      "metadata": {
        "id": "fd1tuPS7-D9M"
      },
      "source": [
        "df_new=df"
      ],
      "execution_count": null,
      "outputs": []
    },
    {
      "cell_type": "code",
      "metadata": {
        "colab": {
          "base_uri": "https://localhost:8080/"
        },
        "id": "GApDf6_TzqLu",
        "outputId": "d61e26ef-3dcf-435d-d998-79967707a0f2"
      },
      "source": [
        "df_new.isnull().sum()"
      ],
      "execution_count": null,
      "outputs": [
        {
          "output_type": "execute_result",
          "data": {
            "text/plain": [
              "gender                 0\n",
              "age                    0\n",
              "hypertension           0\n",
              "heart_disease          0\n",
              "ever_married           0\n",
              "work_type              0\n",
              "Residence_type         0\n",
              "avg_glucose_level      0\n",
              "bmi                  201\n",
              "smoking_status         0\n",
              "stroke                 0\n",
              "dtype: int64"
            ]
          },
          "metadata": {
            "tags": []
          },
          "execution_count": 432
        }
      ]
    },
    {
      "cell_type": "code",
      "metadata": {
        "colab": {
          "base_uri": "https://localhost:8080/",
          "height": 356
        },
        "id": "5NllMUZ_HDK9",
        "outputId": "540c08e2-88b3-49a9-8270-da4f72b87641"
      },
      "source": [
        "sns.distplot((df_new['bmi']), hist = False, kde = True,\n",
        "            kde_kws = {'shade': True, 'linewidth': 2}, \n",
        "            label = \"Normal\", color =\"green\")"
      ],
      "execution_count": null,
      "outputs": [
        {
          "output_type": "stream",
          "text": [
            "/usr/local/lib/python3.7/dist-packages/seaborn/distributions.py:2557: FutureWarning: `distplot` is a deprecated function and will be removed in a future version. Please adapt your code to use either `displot` (a figure-level function with similar flexibility) or `kdeplot` (an axes-level function for kernel density plots).\n",
            "  warnings.warn(msg, FutureWarning)\n"
          ],
          "name": "stderr"
        },
        {
          "output_type": "execute_result",
          "data": {
            "text/plain": [
              "<matplotlib.axes._subplots.AxesSubplot at 0x7f70f5d86a50>"
            ]
          },
          "metadata": {
            "tags": []
          },
          "execution_count": 433
        },
        {
          "output_type": "display_data",
          "data": {
            "image/png": "[encoded data removed]",
            "text/plain": [
              "<Figure size 432x288 with 1 Axes>"
            ]
          },
          "metadata": {
            "tags": [],
            "needs_background": "light"
          }
        }
      ]
    },
    {
      "cell_type": "code",
      "metadata": {
        "id": "Zg1eyU3uHGfa"
      },
      "source": [
        "temp=df_new.bmi.quantile(.97)\n",
        "df_new.drop(df_new[df_new['bmi']>temp].index,inplace=True)"
      ],
      "execution_count": null,
      "outputs": []
    },
    {
      "cell_type": "code",
      "metadata": {
        "colab": {
          "base_uri": "https://localhost:8080/"
        },
        "id": "jwM6KU8hSHZd",
        "outputId": "d69398a6-347d-4202-eacb-662d360e7feb"
      },
      "source": [
        "temp"
      ],
      "execution_count": null,
      "outputs": [
        {
          "output_type": "execute_result",
          "data": {
            "text/plain": [
              "45.3"
            ]
          },
          "metadata": {
            "tags": []
          },
          "execution_count": 435
        }
      ]
    },
    {
      "cell_type": "code",
      "metadata": {
        "id": "1gqrde1HHSvH",
        "colab": {
          "base_uri": "https://localhost:8080/",
          "height": 355
        },
        "outputId": "55b015ef-9211-4dfd-d2fa-6ca1b4485c5a"
      },
      "source": [
        "sns.distplot((df_new['bmi']), hist = False, kde = True,\n",
        "            kde_kws = {'shade': True, 'linewidth': 2}, \n",
        "            label = \"Normal\", color =\"green\")"
      ],
      "execution_count": null,
      "outputs": [
        {
          "output_type": "stream",
          "text": [
            "/usr/local/lib/python3.7/dist-packages/seaborn/distributions.py:2557: FutureWarning: `distplot` is a deprecated function and will be removed in a future version. Please adapt your code to use either `displot` (a figure-level function with similar flexibility) or `kdeplot` (an axes-level function for kernel density plots).\n",
            "  warnings.warn(msg, FutureWarning)\n"
          ],
          "name": "stderr"
        },
        {
          "output_type": "execute_result",
          "data": {
            "text/plain": [
              "<matplotlib.axes._subplots.AxesSubplot at 0x7f70f447dc50>"
            ]
          },
          "metadata": {
            "tags": []
          },
          "execution_count": 436
        },
        {
          "output_type": "display_data",
          "data": {
            "image/png": "[encoded data removed]",
            "text/plain": [
              "<Figure size 432x288 with 1 Axes>"
            ]
          },
          "metadata": {
            "tags": [],
            "needs_background": "light"
          }
        }
      ]
    },
    {
      "cell_type": "code",
      "metadata": {
        "colab": {
          "base_uri": "https://localhost:8080/",
          "height": 356
        },
        "id": "iq92YIuSIvid",
        "outputId": "e917218d-8c9e-478d-ba95-f72f1543acc7"
      },
      "source": [
        "sns.distplot((df_new['avg_glucose_level']), hist = False, kde = True,\n",
        "            kde_kws = {'shade': True, 'linewidth': 2}, \n",
        "            label = \"Normal\", color =\"green\")"
      ],
      "execution_count": null,
      "outputs": [
        {
          "output_type": "stream",
          "text": [
            "/usr/local/lib/python3.7/dist-packages/seaborn/distributions.py:2557: FutureWarning: `distplot` is a deprecated function and will be removed in a future version. Please adapt your code to use either `displot` (a figure-level function with similar flexibility) or `kdeplot` (an axes-level function for kernel density plots).\n",
            "  warnings.warn(msg, FutureWarning)\n"
          ],
          "name": "stderr"
        },
        {
          "output_type": "execute_result",
          "data": {
            "text/plain": [
              "<matplotlib.axes._subplots.AxesSubplot at 0x7f70f44215d0>"
            ]
          },
          "metadata": {
            "tags": []
          },
          "execution_count": 437
        },
        {
          "output_type": "display_data",
          "data": {
            "image/png": "[encoded data removed]",
            "text/plain": [
              "<Figure size 432x288 with 1 Axes>"
            ]
          },
          "metadata": {
            "tags": [],
            "needs_background": "light"
          }
        }
      ]
    },
    {
      "cell_type": "code",
      "metadata": {
        "id": "01dBMHT4FR77"
      },
      "source": [
        "#df_new['age_cat'] = pd.cut(df_new['age'], bins = [0,13,18, 45,60,200], labels = ['Children', 'Teens', 'Adults','Mid Adults','Elderly'])\n",
        "df_new['age_cat'] = pd.cut(df_new['age'], bins = [0,9,18, 29,41,53,65,200], labels = ['baby','Children', 'Teens','young', 'Adults','Mid Adults','Elderly'])\n",
        "#df_new['glucose_cat'] = pd.cut(df_new['avg_glucose_level'], bins = [0,90,160,230,500], labels = ['Low', 'Normal', 'High', 'Very High'])\n",
        "df_new['glucose_cat'] = pd.cut(df_new['avg_glucose_level'], bins = [0,35,80,130,180,230,500], labels = ['very low','Low', 'medium', 'Normal', 'High', 'Very High'])"
      ],
      "execution_count": null,
      "outputs": []
    },
    {
      "cell_type": "code",
      "metadata": {
        "id": "wL-LEK0TGThS"
      },
      "source": [
        "df_new.drop(columns=['age','avg_glucose_level'],inplace=True)"
      ],
      "execution_count": null,
      "outputs": []
    },
    {
      "cell_type": "code",
      "metadata": {
        "id": "o-Ppl8yLyyeW",
        "colab": {
          "base_uri": "https://localhost:8080/"
        },
        "outputId": "814e5445-9e72-4581-84bd-5c8e40df70a5"
      },
      "source": [
        "df_new.bmi.isnull().sum()"
      ],
      "execution_count": null,
      "outputs": [
        {
          "output_type": "execute_result",
          "data": {
            "text/plain": [
              "201"
            ]
          },
          "metadata": {
            "tags": []
          },
          "execution_count": 440
        }
      ]
    },
    {
      "cell_type": "code",
      "metadata": {
        "id": "CyqBvjjgyWIk"
      },
      "source": [
        "p_data=df_new[df_new['bmi'].isnull()]"
      ],
      "execution_count": null,
      "outputs": []
    },
    {
      "cell_type": "code",
      "metadata": {
        "id": "jRChnUwDgOCf"
      },
      "source": [
        "train_full=df_new[df_new['bmi'].notnull()]"
      ],
      "execution_count": null,
      "outputs": []
    },
    {
      "cell_type": "code",
      "metadata": {
        "id": "KeZ5h2PnioPX",
        "colab": {
          "base_uri": "https://localhost:8080/"
        },
        "outputId": "c1289a62-feda-482b-c729-9d26d60a2878"
      },
      "source": [
        "p_data.isnull().sum()"
      ],
      "execution_count": null,
      "outputs": [
        {
          "output_type": "execute_result",
          "data": {
            "text/plain": [
              "gender              0\n",
              "hypertension        0\n",
              "heart_disease       0\n",
              "ever_married        0\n",
              "work_type           0\n",
              "Residence_type      0\n",
              "bmi               201\n",
              "smoking_status      0\n",
              "stroke              0\n",
              "age_cat             0\n",
              "glucose_cat         0\n",
              "dtype: int64"
            ]
          },
          "metadata": {
            "tags": []
          },
          "execution_count": 443
        }
      ]
    },
    {
      "cell_type": "code",
      "metadata": {
        "id": "07S1_e6cgUjR",
        "colab": {
          "base_uri": "https://localhost:8080/",
          "height": 206
        },
        "outputId": "b7eb07f7-667b-4b39-fd31-c5d35d280877"
      },
      "source": [
        "train_full.head()"
      ],
      "execution_count": null,
      "outputs": [
        {
          "output_type": "execute_result",
          "data": {
            "text/html": [
              "<div>\n",
              "<style scoped>\n",
              "    .dataframe tbody tr th:only-of-type {\n",
              "        vertical-align: middle;\n",
              "    }\n",
              "\n",
              "    .dataframe tbody tr th {\n",
              "        vertical-align: top;\n",
              "    }\n",
              "\n",
              "    .dataframe thead th {\n",
              "        text-align: right;\n",
              "    }\n",
              "</style>\n",
              "<table border=\"1\" class=\"dataframe\">\n",
              "  <thead>\n",
              "    <tr style=\"text-align: right;\">\n",
              "      <th></th>\n",
              "      <th>gender</th>\n",
              "      <th>hypertension</th>\n",
              "      <th>heart_disease</th>\n",
              "      <th>ever_married</th>\n",
              "      <th>work_type</th>\n",
              "      <th>Residence_type</th>\n",
              "      <th>bmi</th>\n",
              "      <th>smoking_status</th>\n",
              "      <th>stroke</th>\n",
              "      <th>age_cat</th>\n",
              "      <th>glucose_cat</th>\n",
              "    </tr>\n",
              "  </thead>\n",
              "  <tbody>\n",
              "    <tr>\n",
              "      <th>0</th>\n",
              "      <td>Male</td>\n",
              "      <td>0</td>\n",
              "      <td>1</td>\n",
              "      <td>Yes</td>\n",
              "      <td>Private</td>\n",
              "      <td>Urban</td>\n",
              "      <td>36.6</td>\n",
              "      <td>formerly smoked</td>\n",
              "      <td>1</td>\n",
              "      <td>Elderly</td>\n",
              "      <td>High</td>\n",
              "    </tr>\n",
              "    <tr>\n",
              "      <th>2</th>\n",
              "      <td>Male</td>\n",
              "      <td>0</td>\n",
              "      <td>1</td>\n",
              "      <td>Yes</td>\n",
              "      <td>Private</td>\n",
              "      <td>Rural</td>\n",
              "      <td>32.5</td>\n",
              "      <td>never smoked</td>\n",
              "      <td>1</td>\n",
              "      <td>Elderly</td>\n",
              "      <td>medium</td>\n",
              "    </tr>\n",
              "    <tr>\n",
              "      <th>3</th>\n",
              "      <td>Female</td>\n",
              "      <td>0</td>\n",
              "      <td>0</td>\n",
              "      <td>Yes</td>\n",
              "      <td>Private</td>\n",
              "      <td>Urban</td>\n",
              "      <td>34.4</td>\n",
              "      <td>smokes</td>\n",
              "      <td>1</td>\n",
              "      <td>Adults</td>\n",
              "      <td>Normal</td>\n",
              "    </tr>\n",
              "    <tr>\n",
              "      <th>4</th>\n",
              "      <td>Female</td>\n",
              "      <td>1</td>\n",
              "      <td>0</td>\n",
              "      <td>Yes</td>\n",
              "      <td>Self-employed</td>\n",
              "      <td>Rural</td>\n",
              "      <td>24.0</td>\n",
              "      <td>never smoked</td>\n",
              "      <td>1</td>\n",
              "      <td>Elderly</td>\n",
              "      <td>Normal</td>\n",
              "    </tr>\n",
              "    <tr>\n",
              "      <th>5</th>\n",
              "      <td>Male</td>\n",
              "      <td>0</td>\n",
              "      <td>0</td>\n",
              "      <td>Yes</td>\n",
              "      <td>Private</td>\n",
              "      <td>Urban</td>\n",
              "      <td>29.0</td>\n",
              "      <td>formerly smoked</td>\n",
              "      <td>1</td>\n",
              "      <td>Elderly</td>\n",
              "      <td>High</td>\n",
              "    </tr>\n",
              "  </tbody>\n",
              "</table>\n",
              "</div>"
            ],
            "text/plain": [
              "   gender  hypertension  heart_disease  ... stroke  age_cat glucose_cat\n",
              "0    Male             0              1  ...      1  Elderly        High\n",
              "2    Male             0              1  ...      1  Elderly      medium\n",
              "3  Female             0              0  ...      1   Adults      Normal\n",
              "4  Female             1              0  ...      1  Elderly      Normal\n",
              "5    Male             0              0  ...      1  Elderly        High\n",
              "\n",
              "[5 rows x 11 columns]"
            ]
          },
          "metadata": {
            "tags": []
          },
          "execution_count": 444
        }
      ]
    },
    {
      "cell_type": "code",
      "metadata": {
        "id": "jye2qYlFq-ir"
      },
      "source": [
        "from sklearn.preprocessing import PolynomialFeatures\n",
        "from sklearn.linear_model import LinearRegression"
      ],
      "execution_count": null,
      "outputs": []
    },
    {
      "cell_type": "code",
      "metadata": {
        "id": "UV75noZxtMmW"
      },
      "source": [
        "#df_new.drop(columns='bmi',inplace=True)"
      ],
      "execution_count": null,
      "outputs": []
    },
    {
      "cell_type": "code",
      "metadata": {
        "id": "th8TLWLjtI2z"
      },
      "source": [
        "from sklearn.model_selection import train_test_split"
      ],
      "execution_count": null,
      "outputs": []
    },
    {
      "cell_type": "code",
      "metadata": {
        "id": "slGMsRJBuQjc",
        "colab": {
          "base_uri": "https://localhost:8080/"
        },
        "outputId": "5e1552c2-5299-4e72-e4b3-8c74f10e050b"
      },
      "source": [
        "!pip install catboost\n",
        "from catboost import CatBoostRegressor"
      ],
      "execution_count": null,
      "outputs": [
        {
          "output_type": "stream",
          "text": [
            "Requirement already satisfied: catboost in /usr/local/lib/python3.7/dist-packages (0.25.1)\n",
            "Requirement already satisfied: pandas>=0.24.0 in /usr/local/lib/python3.7/dist-packages (from catboost) (1.1.5)\n",
            "Requirement already satisfied: graphviz in /usr/local/lib/python3.7/dist-packages (from catboost) (0.10.1)\n",
            "Requirement already satisfied: scipy in /usr/local/lib/python3.7/dist-packages (from catboost) (1.4.1)\n",
            "Requirement already satisfied: plotly in /usr/local/lib/python3.7/dist-packages (from catboost) (4.4.1)\n",
            "Requirement already satisfied: numpy>=1.16.0 in /usr/local/lib/python3.7/dist-packages (from catboost) (1.19.5)\n",
            "Requirement already satisfied: matplotlib in /usr/local/lib/python3.7/dist-packages (from catboost) (3.2.2)\n",
            "Requirement already satisfied: six in /usr/local/lib/python3.7/dist-packages (from catboost) (1.15.0)\n",
            "Requirement already satisfied: pytz>=2017.2 in /usr/local/lib/python3.7/dist-packages (from pandas>=0.24.0->catboost) (2018.9)\n",
            "Requirement already satisfied: python-dateutil>=2.7.3 in /usr/local/lib/python3.7/dist-packages (from pandas>=0.24.0->catboost) (2.8.1)\n",
            "Requirement already satisfied: retrying>=1.3.3 in /usr/local/lib/python3.7/dist-packages (from plotly->catboost) (1.3.3)\n",
            "Requirement already satisfied: cycler>=0.10 in /usr/local/lib/python3.7/dist-packages (from matplotlib->catboost) (0.10.0)\n",
            "Requirement already satisfied: pyparsing!=2.0.4,!=2.1.2,!=2.1.6,>=2.0.1 in /usr/local/lib/python3.7/dist-packages (from matplotlib->catboost) (2.4.7)\n",
            "Requirement already satisfied: kiwisolver>=1.0.1 in /usr/local/lib/python3.7/dist-packages (from matplotlib->catboost) (1.3.1)\n"
          ],
          "name": "stdout"
        }
      ]
    },
    {
      "cell_type": "code",
      "metadata": {
        "id": "MeY1VBVbtZUH"
      },
      "source": [
        "train,test=train_test_split(train_full,test_size=0.20,shuffle=True)"
      ],
      "execution_count": null,
      "outputs": []
    },
    {
      "cell_type": "code",
      "metadata": {
        "id": "SHZS91NFuTzJ",
        "colab": {
          "base_uri": "https://localhost:8080/",
          "height": 206
        },
        "outputId": "0f52383d-a1bf-4c78-820b-7f289af5190b"
      },
      "source": [
        "train.head()"
      ],
      "execution_count": null,
      "outputs": [
        {
          "output_type": "execute_result",
          "data": {
            "text/html": [
              "<div>\n",
              "<style scoped>\n",
              "    .dataframe tbody tr th:only-of-type {\n",
              "        vertical-align: middle;\n",
              "    }\n",
              "\n",
              "    .dataframe tbody tr th {\n",
              "        vertical-align: top;\n",
              "    }\n",
              "\n",
              "    .dataframe thead th {\n",
              "        text-align: right;\n",
              "    }\n",
              "</style>\n",
              "<table border=\"1\" class=\"dataframe\">\n",
              "  <thead>\n",
              "    <tr style=\"text-align: right;\">\n",
              "      <th></th>\n",
              "      <th>gender</th>\n",
              "      <th>hypertension</th>\n",
              "      <th>heart_disease</th>\n",
              "      <th>ever_married</th>\n",
              "      <th>work_type</th>\n",
              "      <th>Residence_type</th>\n",
              "      <th>bmi</th>\n",
              "      <th>smoking_status</th>\n",
              "      <th>stroke</th>\n",
              "      <th>age_cat</th>\n",
              "      <th>glucose_cat</th>\n",
              "    </tr>\n",
              "  </thead>\n",
              "  <tbody>\n",
              "    <tr>\n",
              "      <th>3673</th>\n",
              "      <td>Male</td>\n",
              "      <td>0</td>\n",
              "      <td>0</td>\n",
              "      <td>Yes</td>\n",
              "      <td>Govt_job</td>\n",
              "      <td>Rural</td>\n",
              "      <td>29.2</td>\n",
              "      <td>never smoked</td>\n",
              "      <td>0</td>\n",
              "      <td>Adults</td>\n",
              "      <td>Normal</td>\n",
              "    </tr>\n",
              "    <tr>\n",
              "      <th>1791</th>\n",
              "      <td>Male</td>\n",
              "      <td>0</td>\n",
              "      <td>0</td>\n",
              "      <td>No</td>\n",
              "      <td>children</td>\n",
              "      <td>Rural</td>\n",
              "      <td>18.2</td>\n",
              "      <td>Unknown</td>\n",
              "      <td>0</td>\n",
              "      <td>Children</td>\n",
              "      <td>Normal</td>\n",
              "    </tr>\n",
              "    <tr>\n",
              "      <th>888</th>\n",
              "      <td>Female</td>\n",
              "      <td>1</td>\n",
              "      <td>0</td>\n",
              "      <td>Yes</td>\n",
              "      <td>Private</td>\n",
              "      <td>Rural</td>\n",
              "      <td>23.4</td>\n",
              "      <td>never smoked</td>\n",
              "      <td>0</td>\n",
              "      <td>Mid Adults</td>\n",
              "      <td>medium</td>\n",
              "    </tr>\n",
              "    <tr>\n",
              "      <th>1991</th>\n",
              "      <td>Female</td>\n",
              "      <td>0</td>\n",
              "      <td>0</td>\n",
              "      <td>Yes</td>\n",
              "      <td>Private</td>\n",
              "      <td>Rural</td>\n",
              "      <td>24.2</td>\n",
              "      <td>formerly smoked</td>\n",
              "      <td>0</td>\n",
              "      <td>young</td>\n",
              "      <td>medium</td>\n",
              "    </tr>\n",
              "    <tr>\n",
              "      <th>4877</th>\n",
              "      <td>Female</td>\n",
              "      <td>0</td>\n",
              "      <td>0</td>\n",
              "      <td>Yes</td>\n",
              "      <td>Private</td>\n",
              "      <td>Rural</td>\n",
              "      <td>36.2</td>\n",
              "      <td>formerly smoked</td>\n",
              "      <td>0</td>\n",
              "      <td>Mid Adults</td>\n",
              "      <td>Normal</td>\n",
              "    </tr>\n",
              "  </tbody>\n",
              "</table>\n",
              "</div>"
            ],
            "text/plain": [
              "      gender  hypertension  heart_disease  ... stroke     age_cat glucose_cat\n",
              "3673    Male             0              0  ...      0      Adults      Normal\n",
              "1791    Male             0              0  ...      0    Children      Normal\n",
              "888   Female             1              0  ...      0  Mid Adults      medium\n",
              "1991  Female             0              0  ...      0       young      medium\n",
              "4877  Female             0              0  ...      0  Mid Adults      Normal\n",
              "\n",
              "[5 rows x 11 columns]"
            ]
          },
          "metadata": {
            "tags": []
          },
          "execution_count": 450
        }
      ]
    },
    {
      "cell_type": "code",
      "metadata": {
        "id": "aetg1IlWuoA1",
        "colab": {
          "base_uri": "https://localhost:8080/"
        },
        "outputId": "f3857cf4-ff1e-4b37-aefd-642cbf5ca3c7"
      },
      "source": [
        "label=train.bmi\n",
        "train.drop(columns=['bmi'],inplace=True)"
      ],
      "execution_count": null,
      "outputs": [
        {
          "output_type": "stream",
          "text": [
            "/usr/local/lib/python3.7/dist-packages/pandas/core/frame.py:4174: SettingWithCopyWarning: \n",
            "A value is trying to be set on a copy of a slice from a DataFrame\n",
            "\n",
            "See the caveats in the documentation: https://pandas.pydata.org/pandas-docs/stable/user_guide/indexing.html#returning-a-view-versus-a-copy\n",
            "  errors=errors,\n"
          ],
          "name": "stderr"
        }
      ]
    },
    {
      "cell_type": "code",
      "metadata": {
        "id": "l_d2zw0pvjkR",
        "colab": {
          "base_uri": "https://localhost:8080/"
        },
        "outputId": "50ac916b-5972-4bda-e376-239476e1b132"
      },
      "source": [
        "true=test.bmi\n",
        "test.drop(columns=['bmi'],inplace=True)\n"
      ],
      "execution_count": null,
      "outputs": [
        {
          "output_type": "stream",
          "text": [
            "/usr/local/lib/python3.7/dist-packages/pandas/core/frame.py:4174: SettingWithCopyWarning: \n",
            "A value is trying to be set on a copy of a slice from a DataFrame\n",
            "\n",
            "See the caveats in the documentation: https://pandas.pydata.org/pandas-docs/stable/user_guide/indexing.html#returning-a-view-versus-a-copy\n",
            "  errors=errors,\n"
          ],
          "name": "stderr"
        }
      ]
    },
    {
      "cell_type": "code",
      "metadata": {
        "id": "pa6zsWB9wCkp"
      },
      "source": [
        "model=CatBoostRegressor()"
      ],
      "execution_count": null,
      "outputs": []
    },
    {
      "cell_type": "code",
      "metadata": {
        "id": "HfG-7UrqwGsH",
        "colab": {
          "base_uri": "https://localhost:8080/"
        },
        "outputId": "35db6d5f-83bf-4b47-b3fd-69245a790537"
      },
      "source": [
        "model.fit(train,label,cat_features=['gender','hypertension','heart_disease','ever_married','work_type','Residence_type','glucose_cat','smoking_status','stroke','age_cat'])"
      ],
      "execution_count": null,
      "outputs": [
        {
          "output_type": "stream",
          "text": [
            "Learning rate set to 0.049523\n",
            "0:\tlearn: 6.5746282\ttotal: 4.97ms\tremaining: 4.96s\n",
            "1:\tlearn: 6.4996654\ttotal: 7.55ms\tremaining: 3.77s\n",
            "2:\tlearn: 6.4255551\ttotal: 11ms\tremaining: 3.65s\n",
            "3:\tlearn: 6.3555880\ttotal: 15.6ms\tremaining: 3.88s\n",
            "4:\tlearn: 6.2923250\ttotal: 19.1ms\tremaining: 3.81s\n",
            "5:\tlearn: 6.2364785\ttotal: 21.1ms\tremaining: 3.49s\n",
            "6:\tlearn: 6.1862408\ttotal: 25.7ms\tremaining: 3.65s\n",
            "7:\tlearn: 6.1429621\ttotal: 28.1ms\tremaining: 3.49s\n",
            "8:\tlearn: 6.0969809\ttotal: 31.5ms\tremaining: 3.46s\n",
            "9:\tlearn: 6.0599817\ttotal: 33.5ms\tremaining: 3.31s\n",
            "10:\tlearn: 6.0195557\ttotal: 38.2ms\tremaining: 3.44s\n",
            "11:\tlearn: 5.9844342\ttotal: 40.3ms\tremaining: 3.32s\n",
            "12:\tlearn: 5.9514622\ttotal: 43.3ms\tremaining: 3.29s\n",
            "13:\tlearn: 5.9179898\ttotal: 46.7ms\tremaining: 3.29s\n",
            "14:\tlearn: 5.8874317\ttotal: 49.8ms\tremaining: 3.27s\n",
            "15:\tlearn: 5.8600615\ttotal: 52.8ms\tremaining: 3.25s\n",
            "16:\tlearn: 5.8377629\ttotal: 56.8ms\tremaining: 3.28s\n",
            "17:\tlearn: 5.8149391\ttotal: 59.9ms\tremaining: 3.27s\n",
            "18:\tlearn: 5.7950717\ttotal: 62.9ms\tremaining: 3.25s\n",
            "19:\tlearn: 5.7793456\ttotal: 64.5ms\tremaining: 3.16s\n",
            "20:\tlearn: 5.7605748\ttotal: 67.6ms\tremaining: 3.15s\n",
            "21:\tlearn: 5.7460317\ttotal: 70.6ms\tremaining: 3.14s\n",
            "22:\tlearn: 5.7325840\ttotal: 73.9ms\tremaining: 3.14s\n",
            "23:\tlearn: 5.7182075\ttotal: 76.7ms\tremaining: 3.12s\n",
            "24:\tlearn: 5.7055025\ttotal: 79.8ms\tremaining: 3.11s\n",
            "25:\tlearn: 5.6928484\ttotal: 83ms\tremaining: 3.11s\n",
            "26:\tlearn: 5.6814161\ttotal: 86.1ms\tremaining: 3.1s\n",
            "27:\tlearn: 5.6709862\ttotal: 89.8ms\tremaining: 3.12s\n",
            "28:\tlearn: 5.6607573\ttotal: 93ms\tremaining: 3.11s\n",
            "29:\tlearn: 5.6511850\ttotal: 96.6ms\tremaining: 3.12s\n",
            "30:\tlearn: 5.6411836\ttotal: 101ms\tremaining: 3.15s\n",
            "31:\tlearn: 5.6355801\ttotal: 103ms\tremaining: 3.13s\n",
            "32:\tlearn: 5.6296117\ttotal: 107ms\tremaining: 3.12s\n",
            "33:\tlearn: 5.6225499\ttotal: 110ms\tremaining: 3.12s\n",
            "34:\tlearn: 5.6166120\ttotal: 113ms\tremaining: 3.11s\n",
            "35:\tlearn: 5.6113398\ttotal: 116ms\tremaining: 3.1s\n",
            "36:\tlearn: 5.6079769\ttotal: 118ms\tremaining: 3.06s\n",
            "37:\tlearn: 5.6024357\ttotal: 121ms\tremaining: 3.05s\n",
            "38:\tlearn: 5.5964507\ttotal: 124ms\tremaining: 3.06s\n",
            "39:\tlearn: 5.5892846\ttotal: 128ms\tremaining: 3.07s\n",
            "40:\tlearn: 5.5844485\ttotal: 132ms\tremaining: 3.09s\n",
            "41:\tlearn: 5.5802477\ttotal: 136ms\tremaining: 3.1s\n",
            "42:\tlearn: 5.5758358\ttotal: 139ms\tremaining: 3.1s\n",
            "43:\tlearn: 5.5734584\ttotal: 143ms\tremaining: 3.1s\n",
            "44:\tlearn: 5.5682881\ttotal: 148ms\tremaining: 3.14s\n",
            "45:\tlearn: 5.5643723\ttotal: 151ms\tremaining: 3.13s\n",
            "46:\tlearn: 5.5571194\ttotal: 155ms\tremaining: 3.14s\n",
            "47:\tlearn: 5.5540625\ttotal: 159ms\tremaining: 3.15s\n",
            "48:\tlearn: 5.5526700\ttotal: 162ms\tremaining: 3.14s\n",
            "49:\tlearn: 5.5502403\ttotal: 164ms\tremaining: 3.11s\n",
            "50:\tlearn: 5.5495084\ttotal: 165ms\tremaining: 3.07s\n",
            "51:\tlearn: 5.5464422\ttotal: 169ms\tremaining: 3.08s\n",
            "52:\tlearn: 5.5423360\ttotal: 172ms\tremaining: 3.08s\n",
            "53:\tlearn: 5.5401577\ttotal: 176ms\tremaining: 3.08s\n",
            "54:\tlearn: 5.5369560\ttotal: 179ms\tremaining: 3.07s\n",
            "55:\tlearn: 5.5324826\ttotal: 182ms\tremaining: 3.07s\n",
            "56:\tlearn: 5.5289376\ttotal: 188ms\tremaining: 3.1s\n",
            "57:\tlearn: 5.5237995\ttotal: 194ms\tremaining: 3.16s\n",
            "58:\tlearn: 5.5201560\ttotal: 198ms\tremaining: 3.15s\n",
            "59:\tlearn: 5.5169275\ttotal: 205ms\tremaining: 3.21s\n",
            "60:\tlearn: 5.5151450\ttotal: 214ms\tremaining: 3.29s\n",
            "61:\tlearn: 5.5138229\ttotal: 224ms\tremaining: 3.38s\n",
            "62:\tlearn: 5.5119518\ttotal: 228ms\tremaining: 3.39s\n",
            "63:\tlearn: 5.5089665\ttotal: 232ms\tremaining: 3.38s\n",
            "64:\tlearn: 5.5050173\ttotal: 235ms\tremaining: 3.38s\n",
            "65:\tlearn: 5.5019706\ttotal: 239ms\tremaining: 3.38s\n",
            "66:\tlearn: 5.5004572\ttotal: 242ms\tremaining: 3.37s\n",
            "67:\tlearn: 5.4996214\ttotal: 246ms\tremaining: 3.37s\n",
            "68:\tlearn: 5.4966943\ttotal: 250ms\tremaining: 3.37s\n",
            "69:\tlearn: 5.4957922\ttotal: 253ms\tremaining: 3.36s\n",
            "70:\tlearn: 5.4940027\ttotal: 257ms\tremaining: 3.36s\n",
            "71:\tlearn: 5.4929385\ttotal: 261ms\tremaining: 3.36s\n",
            "72:\tlearn: 5.4922022\ttotal: 264ms\tremaining: 3.36s\n",
            "73:\tlearn: 5.4907387\ttotal: 268ms\tremaining: 3.35s\n",
            "74:\tlearn: 5.4889031\ttotal: 272ms\tremaining: 3.35s\n",
            "75:\tlearn: 5.4871868\ttotal: 276ms\tremaining: 3.35s\n",
            "76:\tlearn: 5.4832530\ttotal: 279ms\tremaining: 3.35s\n",
            "77:\tlearn: 5.4825779\ttotal: 283ms\tremaining: 3.35s\n",
            "78:\tlearn: 5.4812213\ttotal: 286ms\tremaining: 3.34s\n",
            "79:\tlearn: 5.4810524\ttotal: 289ms\tremaining: 3.32s\n",
            "80:\tlearn: 5.4802397\ttotal: 292ms\tremaining: 3.31s\n",
            "81:\tlearn: 5.4794975\ttotal: 295ms\tremaining: 3.3s\n",
            "82:\tlearn: 5.4785297\ttotal: 298ms\tremaining: 3.29s\n",
            "83:\tlearn: 5.4746232\ttotal: 302ms\tremaining: 3.3s\n",
            "84:\tlearn: 5.4739315\ttotal: 306ms\tremaining: 3.29s\n",
            "85:\tlearn: 5.4729989\ttotal: 309ms\tremaining: 3.29s\n",
            "86:\tlearn: 5.4720495\ttotal: 313ms\tremaining: 3.28s\n",
            "87:\tlearn: 5.4713939\ttotal: 316ms\tremaining: 3.28s\n",
            "88:\tlearn: 5.4708261\ttotal: 320ms\tremaining: 3.27s\n",
            "89:\tlearn: 5.4706605\ttotal: 321ms\tremaining: 3.25s\n",
            "90:\tlearn: 5.4696712\ttotal: 325ms\tremaining: 3.25s\n",
            "91:\tlearn: 5.4692002\ttotal: 328ms\tremaining: 3.24s\n",
            "92:\tlearn: 5.4680734\ttotal: 332ms\tremaining: 3.23s\n",
            "93:\tlearn: 5.4677044\ttotal: 336ms\tremaining: 3.24s\n",
            "94:\tlearn: 5.4677044\ttotal: 337ms\tremaining: 3.21s\n",
            "95:\tlearn: 5.4662930\ttotal: 341ms\tremaining: 3.21s\n",
            "96:\tlearn: 5.4635425\ttotal: 345ms\tremaining: 3.21s\n",
            "97:\tlearn: 5.4630410\ttotal: 347ms\tremaining: 3.19s\n",
            "98:\tlearn: 5.4623030\ttotal: 350ms\tremaining: 3.19s\n",
            "99:\tlearn: 5.4606873\ttotal: 354ms\tremaining: 3.19s\n",
            "100:\tlearn: 5.4583920\ttotal: 358ms\tremaining: 3.18s\n",
            "101:\tlearn: 5.4567843\ttotal: 361ms\tremaining: 3.18s\n",
            "102:\tlearn: 5.4555848\ttotal: 366ms\tremaining: 3.19s\n",
            "103:\tlearn: 5.4549735\ttotal: 369ms\tremaining: 3.18s\n",
            "104:\tlearn: 5.4538806\ttotal: 374ms\tremaining: 3.18s\n",
            "105:\tlearn: 5.4531492\ttotal: 382ms\tremaining: 3.22s\n",
            "106:\tlearn: 5.4507349\ttotal: 392ms\tremaining: 3.27s\n",
            "107:\tlearn: 5.4504751\ttotal: 395ms\tremaining: 3.26s\n",
            "108:\tlearn: 5.4490712\ttotal: 399ms\tremaining: 3.26s\n",
            "109:\tlearn: 5.4487241\ttotal: 402ms\tremaining: 3.25s\n",
            "110:\tlearn: 5.4477739\ttotal: 406ms\tremaining: 3.25s\n",
            "111:\tlearn: 5.4477738\ttotal: 407ms\tremaining: 3.23s\n",
            "112:\tlearn: 5.4472322\ttotal: 411ms\tremaining: 3.22s\n",
            "113:\tlearn: 5.4444916\ttotal: 415ms\tremaining: 3.23s\n",
            "114:\tlearn: 5.4442578\ttotal: 417ms\tremaining: 3.21s\n",
            "115:\tlearn: 5.4418464\ttotal: 421ms\tremaining: 3.21s\n",
            "116:\tlearn: 5.4413834\ttotal: 424ms\tremaining: 3.2s\n",
            "117:\tlearn: 5.4413722\ttotal: 426ms\tremaining: 3.19s\n",
            "118:\tlearn: 5.4412555\ttotal: 430ms\tremaining: 3.19s\n",
            "119:\tlearn: 5.4393023\ttotal: 434ms\tremaining: 3.18s\n",
            "120:\tlearn: 5.4391424\ttotal: 438ms\tremaining: 3.18s\n",
            "121:\tlearn: 5.4387161\ttotal: 441ms\tremaining: 3.17s\n",
            "122:\tlearn: 5.4375779\ttotal: 446ms\tremaining: 3.18s\n",
            "123:\tlearn: 5.4369121\ttotal: 449ms\tremaining: 3.17s\n",
            "124:\tlearn: 5.4365464\ttotal: 453ms\tremaining: 3.17s\n",
            "125:\tlearn: 5.4364220\ttotal: 454ms\tremaining: 3.15s\n",
            "126:\tlearn: 5.4353786\ttotal: 458ms\tremaining: 3.15s\n",
            "127:\tlearn: 5.4329178\ttotal: 463ms\tremaining: 3.15s\n",
            "128:\tlearn: 5.4321508\ttotal: 468ms\tremaining: 3.16s\n",
            "129:\tlearn: 5.4321507\ttotal: 470ms\tremaining: 3.14s\n",
            "130:\tlearn: 5.4314140\ttotal: 474ms\tremaining: 3.14s\n",
            "131:\tlearn: 5.4299109\ttotal: 477ms\tremaining: 3.14s\n",
            "132:\tlearn: 5.4288507\ttotal: 482ms\tremaining: 3.14s\n",
            "133:\tlearn: 5.4283329\ttotal: 486ms\tremaining: 3.14s\n",
            "134:\tlearn: 5.4280305\ttotal: 489ms\tremaining: 3.13s\n",
            "135:\tlearn: 5.4261586\ttotal: 493ms\tremaining: 3.13s\n",
            "136:\tlearn: 5.4255510\ttotal: 497ms\tremaining: 3.13s\n",
            "137:\tlearn: 5.4251957\ttotal: 501ms\tremaining: 3.13s\n",
            "138:\tlearn: 5.4247421\ttotal: 505ms\tremaining: 3.13s\n",
            "139:\tlearn: 5.4225689\ttotal: 509ms\tremaining: 3.13s\n",
            "140:\tlearn: 5.4221239\ttotal: 513ms\tremaining: 3.13s\n",
            "141:\tlearn: 5.4217641\ttotal: 517ms\tremaining: 3.12s\n",
            "142:\tlearn: 5.4216715\ttotal: 519ms\tremaining: 3.11s\n",
            "143:\tlearn: 5.4212979\ttotal: 522ms\tremaining: 3.1s\n",
            "144:\tlearn: 5.4203916\ttotal: 526ms\tremaining: 3.1s\n",
            "145:\tlearn: 5.4189000\ttotal: 529ms\tremaining: 3.1s\n",
            "146:\tlearn: 5.4183338\ttotal: 533ms\tremaining: 3.09s\n",
            "147:\tlearn: 5.4172945\ttotal: 537ms\tremaining: 3.09s\n",
            "148:\tlearn: 5.4172938\ttotal: 538ms\tremaining: 3.07s\n",
            "149:\tlearn: 5.4172836\ttotal: 539ms\tremaining: 3.06s\n",
            "150:\tlearn: 5.4162470\ttotal: 543ms\tremaining: 3.05s\n",
            "151:\tlearn: 5.4162463\ttotal: 544ms\tremaining: 3.04s\n",
            "152:\tlearn: 5.4155297\ttotal: 548ms\tremaining: 3.03s\n",
            "153:\tlearn: 5.4152187\ttotal: 553ms\tremaining: 3.04s\n",
            "154:\tlearn: 5.4151843\ttotal: 554ms\tremaining: 3.02s\n",
            "155:\tlearn: 5.4136271\ttotal: 558ms\tremaining: 3.02s\n",
            "156:\tlearn: 5.4129435\ttotal: 562ms\tremaining: 3.02s\n",
            "157:\tlearn: 5.4124368\ttotal: 566ms\tremaining: 3.02s\n",
            "158:\tlearn: 5.4112339\ttotal: 569ms\tremaining: 3.01s\n",
            "159:\tlearn: 5.4106700\ttotal: 576ms\tremaining: 3.02s\n",
            "160:\tlearn: 5.4104071\ttotal: 580ms\tremaining: 3.02s\n",
            "161:\tlearn: 5.4077835\ttotal: 583ms\tremaining: 3.02s\n",
            "162:\tlearn: 5.4065579\ttotal: 587ms\tremaining: 3.02s\n",
            "163:\tlearn: 5.4056558\ttotal: 592ms\tremaining: 3.02s\n",
            "164:\tlearn: 5.4048906\ttotal: 596ms\tremaining: 3.01s\n",
            "165:\tlearn: 5.4042418\ttotal: 599ms\tremaining: 3.01s\n",
            "166:\tlearn: 5.4040235\ttotal: 603ms\tremaining: 3.01s\n",
            "167:\tlearn: 5.4022817\ttotal: 607ms\tremaining: 3s\n",
            "168:\tlearn: 5.4019159\ttotal: 610ms\tremaining: 3s\n",
            "169:\tlearn: 5.4013691\ttotal: 614ms\tremaining: 3s\n",
            "170:\tlearn: 5.4000387\ttotal: 617ms\tremaining: 2.99s\n",
            "171:\tlearn: 5.3978872\ttotal: 621ms\tremaining: 2.99s\n",
            "172:\tlearn: 5.3968192\ttotal: 625ms\tremaining: 2.99s\n",
            "173:\tlearn: 5.3954041\ttotal: 630ms\tremaining: 2.99s\n",
            "174:\tlearn: 5.3950559\ttotal: 634ms\tremaining: 2.99s\n",
            "175:\tlearn: 5.3944297\ttotal: 638ms\tremaining: 2.98s\n",
            "176:\tlearn: 5.3933095\ttotal: 641ms\tremaining: 2.98s\n",
            "177:\tlearn: 5.3929181\ttotal: 644ms\tremaining: 2.98s\n",
            "178:\tlearn: 5.3919340\ttotal: 649ms\tremaining: 2.98s\n",
            "179:\tlearn: 5.3887775\ttotal: 653ms\tremaining: 2.97s\n",
            "180:\tlearn: 5.3883213\ttotal: 657ms\tremaining: 2.97s\n",
            "181:\tlearn: 5.3881821\ttotal: 661ms\tremaining: 2.97s\n",
            "182:\tlearn: 5.3880430\ttotal: 664ms\tremaining: 2.96s\n",
            "183:\tlearn: 5.3880424\ttotal: 665ms\tremaining: 2.95s\n",
            "184:\tlearn: 5.3851700\ttotal: 670ms\tremaining: 2.95s\n",
            "185:\tlearn: 5.3849813\ttotal: 674ms\tremaining: 2.95s\n",
            "186:\tlearn: 5.3835046\ttotal: 678ms\tremaining: 2.95s\n",
            "187:\tlearn: 5.3832123\ttotal: 682ms\tremaining: 2.94s\n",
            "188:\tlearn: 5.3822358\ttotal: 685ms\tremaining: 2.94s\n",
            "189:\tlearn: 5.3810188\ttotal: 689ms\tremaining: 2.94s\n",
            "190:\tlearn: 5.3801750\ttotal: 693ms\tremaining: 2.93s\n",
            "191:\tlearn: 5.3801743\ttotal: 695ms\tremaining: 2.92s\n",
            "192:\tlearn: 5.3790303\ttotal: 698ms\tremaining: 2.92s\n",
            "193:\tlearn: 5.3783650\ttotal: 702ms\tremaining: 2.92s\n",
            "194:\tlearn: 5.3772661\ttotal: 705ms\tremaining: 2.91s\n",
            "195:\tlearn: 5.3760924\ttotal: 710ms\tremaining: 2.91s\n",
            "196:\tlearn: 5.3754976\ttotal: 714ms\tremaining: 2.91s\n",
            "197:\tlearn: 5.3743362\ttotal: 718ms\tremaining: 2.91s\n",
            "198:\tlearn: 5.3732984\ttotal: 722ms\tremaining: 2.9s\n",
            "199:\tlearn: 5.3723897\ttotal: 725ms\tremaining: 2.9s\n",
            "200:\tlearn: 5.3723860\ttotal: 729ms\tremaining: 2.9s\n",
            "201:\tlearn: 5.3719009\ttotal: 732ms\tremaining: 2.89s\n",
            "202:\tlearn: 5.3712246\ttotal: 736ms\tremaining: 2.89s\n",
            "203:\tlearn: 5.3702223\ttotal: 740ms\tremaining: 2.89s\n",
            "204:\tlearn: 5.3685733\ttotal: 743ms\tremaining: 2.88s\n",
            "205:\tlearn: 5.3674511\ttotal: 747ms\tremaining: 2.88s\n",
            "206:\tlearn: 5.3663883\ttotal: 752ms\tremaining: 2.88s\n",
            "207:\tlearn: 5.3627268\ttotal: 756ms\tremaining: 2.88s\n",
            "208:\tlearn: 5.3613454\ttotal: 761ms\tremaining: 2.88s\n",
            "209:\tlearn: 5.3612380\ttotal: 764ms\tremaining: 2.87s\n",
            "210:\tlearn: 5.3612374\ttotal: 765ms\tremaining: 2.86s\n",
            "211:\tlearn: 5.3607163\ttotal: 771ms\tremaining: 2.87s\n",
            "212:\tlearn: 5.3598542\ttotal: 778ms\tremaining: 2.87s\n",
            "213:\tlearn: 5.3597011\ttotal: 793ms\tremaining: 2.91s\n",
            "214:\tlearn: 5.3590445\ttotal: 797ms\tremaining: 2.91s\n",
            "215:\tlearn: 5.3585060\ttotal: 800ms\tremaining: 2.9s\n",
            "216:\tlearn: 5.3580506\ttotal: 804ms\tremaining: 2.9s\n",
            "217:\tlearn: 5.3573518\ttotal: 807ms\tremaining: 2.9s\n",
            "218:\tlearn: 5.3571439\ttotal: 811ms\tremaining: 2.89s\n",
            "219:\tlearn: 5.3567326\ttotal: 814ms\tremaining: 2.89s\n",
            "220:\tlearn: 5.3566994\ttotal: 818ms\tremaining: 2.88s\n",
            "221:\tlearn: 5.3566894\ttotal: 821ms\tremaining: 2.88s\n",
            "222:\tlearn: 5.3561602\ttotal: 825ms\tremaining: 2.87s\n",
            "223:\tlearn: 5.3550501\ttotal: 828ms\tremaining: 2.87s\n",
            "224:\tlearn: 5.3543887\ttotal: 834ms\tremaining: 2.87s\n",
            "225:\tlearn: 5.3527816\ttotal: 837ms\tremaining: 2.87s\n",
            "226:\tlearn: 5.3526167\ttotal: 841ms\tremaining: 2.86s\n",
            "227:\tlearn: 5.3525842\ttotal: 844ms\tremaining: 2.86s\n",
            "228:\tlearn: 5.3515252\ttotal: 848ms\tremaining: 2.86s\n",
            "229:\tlearn: 5.3507837\ttotal: 852ms\tremaining: 2.85s\n",
            "230:\tlearn: 5.3505523\ttotal: 855ms\tremaining: 2.85s\n",
            "231:\tlearn: 5.3505433\ttotal: 859ms\tremaining: 2.84s\n",
            "232:\tlearn: 5.3494793\ttotal: 862ms\tremaining: 2.84s\n",
            "233:\tlearn: 5.3486252\ttotal: 866ms\tremaining: 2.83s\n",
            "234:\tlearn: 5.3485750\ttotal: 869ms\tremaining: 2.83s\n",
            "235:\tlearn: 5.3485423\ttotal: 874ms\tremaining: 2.83s\n",
            "236:\tlearn: 5.3478187\ttotal: 878ms\tremaining: 2.83s\n",
            "237:\tlearn: 5.3471202\ttotal: 881ms\tremaining: 2.82s\n",
            "238:\tlearn: 5.3465702\ttotal: 885ms\tremaining: 2.82s\n",
            "239:\tlearn: 5.3460410\ttotal: 888ms\tremaining: 2.81s\n",
            "240:\tlearn: 5.3451087\ttotal: 891ms\tremaining: 2.81s\n",
            "241:\tlearn: 5.3445165\ttotal: 896ms\tremaining: 2.81s\n",
            "242:\tlearn: 5.3427625\ttotal: 900ms\tremaining: 2.8s\n",
            "243:\tlearn: 5.3420181\ttotal: 904ms\tremaining: 2.8s\n",
            "244:\tlearn: 5.3406248\ttotal: 908ms\tremaining: 2.8s\n",
            "245:\tlearn: 5.3385651\ttotal: 913ms\tremaining: 2.8s\n",
            "246:\tlearn: 5.3372180\ttotal: 917ms\tremaining: 2.79s\n",
            "247:\tlearn: 5.3371879\ttotal: 920ms\tremaining: 2.79s\n",
            "248:\tlearn: 5.3363636\ttotal: 924ms\tremaining: 2.79s\n",
            "249:\tlearn: 5.3348586\ttotal: 927ms\tremaining: 2.78s\n",
            "250:\tlearn: 5.3341043\ttotal: 931ms\tremaining: 2.78s\n",
            "251:\tlearn: 5.3327703\ttotal: 934ms\tremaining: 2.77s\n",
            "252:\tlearn: 5.3303216\ttotal: 938ms\tremaining: 2.77s\n",
            "253:\tlearn: 5.3301718\ttotal: 941ms\tremaining: 2.77s\n",
            "254:\tlearn: 5.3290122\ttotal: 945ms\tremaining: 2.76s\n",
            "255:\tlearn: 5.3267047\ttotal: 949ms\tremaining: 2.76s\n",
            "256:\tlearn: 5.3263483\ttotal: 954ms\tremaining: 2.76s\n",
            "257:\tlearn: 5.3254074\ttotal: 957ms\tremaining: 2.75s\n",
            "258:\tlearn: 5.3245661\ttotal: 961ms\tremaining: 2.75s\n",
            "259:\tlearn: 5.3237233\ttotal: 964ms\tremaining: 2.74s\n",
            "260:\tlearn: 5.3234929\ttotal: 970ms\tremaining: 2.75s\n",
            "261:\tlearn: 5.3231692\ttotal: 974ms\tremaining: 2.74s\n",
            "262:\tlearn: 5.3222477\ttotal: 978ms\tremaining: 2.74s\n",
            "263:\tlearn: 5.3217884\ttotal: 981ms\tremaining: 2.74s\n",
            "264:\tlearn: 5.3209633\ttotal: 985ms\tremaining: 2.73s\n",
            "265:\tlearn: 5.3198976\ttotal: 989ms\tremaining: 2.73s\n",
            "266:\tlearn: 5.3182058\ttotal: 994ms\tremaining: 2.73s\n",
            "267:\tlearn: 5.3180611\ttotal: 997ms\tremaining: 2.72s\n",
            "268:\tlearn: 5.3179388\ttotal: 1s\tremaining: 2.72s\n",
            "269:\tlearn: 5.3179114\ttotal: 1s\tremaining: 2.71s\n",
            "270:\tlearn: 5.3165209\ttotal: 1.01s\tremaining: 2.71s\n",
            "271:\tlearn: 5.3161315\ttotal: 1.01s\tremaining: 2.71s\n",
            "272:\tlearn: 5.3157885\ttotal: 1.01s\tremaining: 2.7s\n",
            "273:\tlearn: 5.3152555\ttotal: 1.02s\tremaining: 2.7s\n",
            "274:\tlearn: 5.3138179\ttotal: 1.02s\tremaining: 2.69s\n",
            "275:\tlearn: 5.3128617\ttotal: 1.03s\tremaining: 2.69s\n",
            "276:\tlearn: 5.3119136\ttotal: 1.03s\tremaining: 2.69s\n",
            "277:\tlearn: 5.3118180\ttotal: 1.03s\tremaining: 2.68s\n",
            "278:\tlearn: 5.3106778\ttotal: 1.04s\tremaining: 2.68s\n",
            "279:\tlearn: 5.3094474\ttotal: 1.04s\tremaining: 2.67s\n",
            "280:\tlearn: 5.3081913\ttotal: 1.04s\tremaining: 2.67s\n",
            "281:\tlearn: 5.3068931\ttotal: 1.05s\tremaining: 2.67s\n",
            "282:\tlearn: 5.3066297\ttotal: 1.05s\tremaining: 2.66s\n",
            "283:\tlearn: 5.3054028\ttotal: 1.05s\tremaining: 2.66s\n",
            "284:\tlearn: 5.3050165\ttotal: 1.06s\tremaining: 2.65s\n",
            "285:\tlearn: 5.3046382\ttotal: 1.06s\tremaining: 2.65s\n",
            "286:\tlearn: 5.3030751\ttotal: 1.06s\tremaining: 2.64s\n",
            "287:\tlearn: 5.3015153\ttotal: 1.07s\tremaining: 2.64s\n",
            "288:\tlearn: 5.3011668\ttotal: 1.07s\tremaining: 2.63s\n",
            "289:\tlearn: 5.3005868\ttotal: 1.07s\tremaining: 2.63s\n",
            "290:\tlearn: 5.2998935\ttotal: 1.08s\tremaining: 2.63s\n",
            "291:\tlearn: 5.2997330\ttotal: 1.08s\tremaining: 2.62s\n",
            "292:\tlearn: 5.2990535\ttotal: 1.08s\tremaining: 2.62s\n",
            "293:\tlearn: 5.2986260\ttotal: 1.09s\tremaining: 2.61s\n",
            "294:\tlearn: 5.2980628\ttotal: 1.09s\tremaining: 2.61s\n",
            "295:\tlearn: 5.2978156\ttotal: 1.09s\tremaining: 2.6s\n",
            "296:\tlearn: 5.2973003\ttotal: 1.1s\tremaining: 2.6s\n",
            "297:\tlearn: 5.2963573\ttotal: 1.1s\tremaining: 2.6s\n",
            "298:\tlearn: 5.2960269\ttotal: 1.1s\tremaining: 2.59s\n",
            "299:\tlearn: 5.2958704\ttotal: 1.11s\tremaining: 2.59s\n",
            "300:\tlearn: 5.2955794\ttotal: 1.11s\tremaining: 2.58s\n",
            "301:\tlearn: 5.2948964\ttotal: 1.11s\tremaining: 2.58s\n",
            "302:\tlearn: 5.2942192\ttotal: 1.12s\tremaining: 2.57s\n",
            "303:\tlearn: 5.2930187\ttotal: 1.12s\tremaining: 2.57s\n",
            "304:\tlearn: 5.2925131\ttotal: 1.13s\tremaining: 2.56s\n",
            "305:\tlearn: 5.2916251\ttotal: 1.13s\tremaining: 2.56s\n",
            "306:\tlearn: 5.2899421\ttotal: 1.13s\tremaining: 2.56s\n",
            "307:\tlearn: 5.2894341\ttotal: 1.14s\tremaining: 2.55s\n",
            "308:\tlearn: 5.2893384\ttotal: 1.14s\tremaining: 2.55s\n",
            "309:\tlearn: 5.2877807\ttotal: 1.14s\tremaining: 2.54s\n",
            "310:\tlearn: 5.2873588\ttotal: 1.15s\tremaining: 2.54s\n",
            "311:\tlearn: 5.2862948\ttotal: 1.15s\tremaining: 2.54s\n",
            "312:\tlearn: 5.2846993\ttotal: 1.15s\tremaining: 2.53s\n",
            "313:\tlearn: 5.2830371\ttotal: 1.16s\tremaining: 2.53s\n",
            "314:\tlearn: 5.2813950\ttotal: 1.16s\tremaining: 2.52s\n",
            "315:\tlearn: 5.2803450\ttotal: 1.16s\tremaining: 2.52s\n",
            "316:\tlearn: 5.2799522\ttotal: 1.17s\tremaining: 2.52s\n",
            "317:\tlearn: 5.2793494\ttotal: 1.17s\tremaining: 2.52s\n",
            "318:\tlearn: 5.2787509\ttotal: 1.18s\tremaining: 2.52s\n",
            "319:\tlearn: 5.2778029\ttotal: 1.18s\tremaining: 2.51s\n",
            "320:\tlearn: 5.2771724\ttotal: 1.19s\tremaining: 2.51s\n",
            "321:\tlearn: 5.2768471\ttotal: 1.19s\tremaining: 2.5s\n",
            "322:\tlearn: 5.2752535\ttotal: 1.19s\tremaining: 2.5s\n",
            "323:\tlearn: 5.2742963\ttotal: 1.2s\tremaining: 2.5s\n",
            "324:\tlearn: 5.2725460\ttotal: 1.2s\tremaining: 2.49s\n",
            "325:\tlearn: 5.2715455\ttotal: 1.2s\tremaining: 2.49s\n",
            "326:\tlearn: 5.2708145\ttotal: 1.21s\tremaining: 2.48s\n",
            "327:\tlearn: 5.2695819\ttotal: 1.21s\tremaining: 2.48s\n",
            "328:\tlearn: 5.2687349\ttotal: 1.21s\tremaining: 2.48s\n",
            "329:\tlearn: 5.2669747\ttotal: 1.22s\tremaining: 2.47s\n",
            "330:\tlearn: 5.2662859\ttotal: 1.22s\tremaining: 2.47s\n",
            "331:\tlearn: 5.2657485\ttotal: 1.23s\tremaining: 2.46s\n",
            "332:\tlearn: 5.2651823\ttotal: 1.23s\tremaining: 2.46s\n",
            "333:\tlearn: 5.2644439\ttotal: 1.23s\tremaining: 2.46s\n",
            "334:\tlearn: 5.2628919\ttotal: 1.24s\tremaining: 2.45s\n",
            "335:\tlearn: 5.2622549\ttotal: 1.24s\tremaining: 2.45s\n",
            "336:\tlearn: 5.2615295\ttotal: 1.24s\tremaining: 2.44s\n",
            "337:\tlearn: 5.2606942\ttotal: 1.25s\tremaining: 2.44s\n",
            "338:\tlearn: 5.2602305\ttotal: 1.25s\tremaining: 2.44s\n",
            "339:\tlearn: 5.2593411\ttotal: 1.25s\tremaining: 2.43s\n",
            "340:\tlearn: 5.2577275\ttotal: 1.26s\tremaining: 2.43s\n",
            "341:\tlearn: 5.2562090\ttotal: 1.26s\tremaining: 2.42s\n",
            "342:\tlearn: 5.2554881\ttotal: 1.26s\tremaining: 2.42s\n",
            "343:\tlearn: 5.2542942\ttotal: 1.27s\tremaining: 2.42s\n",
            "344:\tlearn: 5.2525888\ttotal: 1.27s\tremaining: 2.41s\n",
            "345:\tlearn: 5.2511425\ttotal: 1.27s\tremaining: 2.41s\n",
            "346:\tlearn: 5.2499394\ttotal: 1.28s\tremaining: 2.41s\n",
            "347:\tlearn: 5.2493624\ttotal: 1.28s\tremaining: 2.4s\n",
            "348:\tlearn: 5.2478995\ttotal: 1.28s\tremaining: 2.4s\n",
            "349:\tlearn: 5.2474936\ttotal: 1.29s\tremaining: 2.39s\n",
            "350:\tlearn: 5.2467543\ttotal: 1.29s\tremaining: 2.39s\n",
            "351:\tlearn: 5.2459961\ttotal: 1.3s\tremaining: 2.39s\n",
            "352:\tlearn: 5.2443461\ttotal: 1.3s\tremaining: 2.38s\n",
            "353:\tlearn: 5.2434728\ttotal: 1.3s\tremaining: 2.38s\n",
            "354:\tlearn: 5.2428639\ttotal: 1.31s\tremaining: 2.37s\n",
            "355:\tlearn: 5.2420061\ttotal: 1.31s\tremaining: 2.37s\n",
            "356:\tlearn: 5.2415369\ttotal: 1.31s\tremaining: 2.37s\n",
            "357:\tlearn: 5.2410649\ttotal: 1.32s\tremaining: 2.36s\n",
            "358:\tlearn: 5.2406893\ttotal: 1.32s\tremaining: 2.36s\n",
            "359:\tlearn: 5.2404729\ttotal: 1.32s\tremaining: 2.35s\n",
            "360:\tlearn: 5.2400208\ttotal: 1.33s\tremaining: 2.35s\n",
            "361:\tlearn: 5.2392356\ttotal: 1.33s\tremaining: 2.35s\n",
            "362:\tlearn: 5.2387651\ttotal: 1.33s\tremaining: 2.34s\n",
            "363:\tlearn: 5.2386315\ttotal: 1.34s\tremaining: 2.34s\n",
            "364:\tlearn: 5.2375630\ttotal: 1.34s\tremaining: 2.33s\n",
            "365:\tlearn: 5.2371474\ttotal: 1.34s\tremaining: 2.33s\n",
            "366:\tlearn: 5.2364311\ttotal: 1.35s\tremaining: 2.33s\n",
            "367:\tlearn: 5.2355113\ttotal: 1.35s\tremaining: 2.32s\n",
            "368:\tlearn: 5.2342980\ttotal: 1.35s\tremaining: 2.32s\n",
            "369:\tlearn: 5.2331400\ttotal: 1.36s\tremaining: 2.31s\n",
            "370:\tlearn: 5.2327201\ttotal: 1.37s\tremaining: 2.32s\n",
            "371:\tlearn: 5.2317908\ttotal: 1.37s\tremaining: 2.32s\n",
            "372:\tlearn: 5.2309611\ttotal: 1.38s\tremaining: 2.32s\n",
            "373:\tlearn: 5.2303355\ttotal: 1.38s\tremaining: 2.31s\n",
            "374:\tlearn: 5.2298522\ttotal: 1.39s\tremaining: 2.31s\n",
            "375:\tlearn: 5.2289904\ttotal: 1.4s\tremaining: 2.32s\n",
            "376:\tlearn: 5.2286216\ttotal: 1.4s\tremaining: 2.32s\n",
            "377:\tlearn: 5.2276650\ttotal: 1.41s\tremaining: 2.31s\n",
            "378:\tlearn: 5.2264618\ttotal: 1.41s\tremaining: 2.31s\n",
            "379:\tlearn: 5.2260109\ttotal: 1.41s\tremaining: 2.31s\n",
            "380:\tlearn: 5.2247511\ttotal: 1.42s\tremaining: 2.3s\n",
            "381:\tlearn: 5.2237808\ttotal: 1.42s\tremaining: 2.3s\n",
            "382:\tlearn: 5.2234395\ttotal: 1.42s\tremaining: 2.29s\n",
            "383:\tlearn: 5.2231889\ttotal: 1.43s\tremaining: 2.29s\n",
            "384:\tlearn: 5.2230343\ttotal: 1.43s\tremaining: 2.29s\n",
            "385:\tlearn: 5.2224085\ttotal: 1.43s\tremaining: 2.28s\n",
            "386:\tlearn: 5.2217028\ttotal: 1.44s\tremaining: 2.28s\n",
            "387:\tlearn: 5.2208379\ttotal: 1.44s\tremaining: 2.27s\n",
            "388:\tlearn: 5.2204359\ttotal: 1.44s\tremaining: 2.27s\n",
            "389:\tlearn: 5.2197827\ttotal: 1.45s\tremaining: 2.27s\n",
            "390:\tlearn: 5.2191351\ttotal: 1.45s\tremaining: 2.26s\n",
            "391:\tlearn: 5.2187762\ttotal: 1.46s\tremaining: 2.26s\n",
            "392:\tlearn: 5.2174578\ttotal: 1.46s\tremaining: 2.25s\n",
            "393:\tlearn: 5.2169548\ttotal: 1.46s\tremaining: 2.25s\n",
            "394:\tlearn: 5.2167263\ttotal: 1.47s\tremaining: 2.24s\n",
            "395:\tlearn: 5.2159281\ttotal: 1.47s\tremaining: 2.24s\n",
            "396:\tlearn: 5.2156341\ttotal: 1.47s\tremaining: 2.23s\n",
            "397:\tlearn: 5.2149590\ttotal: 1.48s\tremaining: 2.23s\n",
            "398:\tlearn: 5.2143576\ttotal: 1.48s\tremaining: 2.23s\n",
            "399:\tlearn: 5.2131304\ttotal: 1.48s\tremaining: 2.22s\n",
            "400:\tlearn: 5.2118288\ttotal: 1.49s\tremaining: 2.22s\n",
            "401:\tlearn: 5.2116479\ttotal: 1.49s\tremaining: 2.22s\n",
            "402:\tlearn: 5.2107624\ttotal: 1.49s\tremaining: 2.21s\n",
            "403:\tlearn: 5.2101669\ttotal: 1.5s\tremaining: 2.21s\n",
            "404:\tlearn: 5.2098386\ttotal: 1.5s\tremaining: 2.2s\n",
            "405:\tlearn: 5.2094672\ttotal: 1.5s\tremaining: 2.2s\n",
            "406:\tlearn: 5.2086774\ttotal: 1.51s\tremaining: 2.19s\n",
            "407:\tlearn: 5.2080082\ttotal: 1.51s\tremaining: 2.19s\n",
            "408:\tlearn: 5.2078024\ttotal: 1.51s\tremaining: 2.19s\n",
            "409:\tlearn: 5.2068731\ttotal: 1.52s\tremaining: 2.19s\n",
            "410:\tlearn: 5.2063658\ttotal: 1.52s\tremaining: 2.18s\n",
            "411:\tlearn: 5.2059496\ttotal: 1.52s\tremaining: 2.18s\n",
            "412:\tlearn: 5.2053990\ttotal: 1.53s\tremaining: 2.17s\n",
            "413:\tlearn: 5.2046461\ttotal: 1.53s\tremaining: 2.17s\n",
            "414:\tlearn: 5.2036612\ttotal: 1.54s\tremaining: 2.17s\n",
            "415:\tlearn: 5.2024675\ttotal: 1.54s\tremaining: 2.16s\n",
            "416:\tlearn: 5.2021296\ttotal: 1.54s\tremaining: 2.16s\n",
            "417:\tlearn: 5.2011954\ttotal: 1.55s\tremaining: 2.15s\n",
            "418:\tlearn: 5.2008851\ttotal: 1.55s\tremaining: 2.15s\n",
            "419:\tlearn: 5.2005763\ttotal: 1.55s\tremaining: 2.14s\n",
            "420:\tlearn: 5.1999628\ttotal: 1.56s\tremaining: 2.14s\n",
            "421:\tlearn: 5.1991570\ttotal: 1.56s\tremaining: 2.14s\n",
            "422:\tlearn: 5.1982358\ttotal: 1.57s\tremaining: 2.14s\n",
            "423:\tlearn: 5.1977326\ttotal: 1.57s\tremaining: 2.14s\n",
            "424:\tlearn: 5.1970977\ttotal: 1.58s\tremaining: 2.14s\n",
            "425:\tlearn: 5.1942804\ttotal: 1.58s\tremaining: 2.13s\n",
            "426:\tlearn: 5.1927408\ttotal: 1.59s\tremaining: 2.13s\n",
            "427:\tlearn: 5.1922606\ttotal: 1.59s\tremaining: 2.13s\n",
            "428:\tlearn: 5.1914311\ttotal: 1.59s\tremaining: 2.12s\n",
            "429:\tlearn: 5.1903290\ttotal: 1.6s\tremaining: 2.12s\n",
            "430:\tlearn: 5.1898995\ttotal: 1.6s\tremaining: 2.11s\n",
            "431:\tlearn: 5.1894696\ttotal: 1.6s\tremaining: 2.11s\n",
            "432:\tlearn: 5.1889277\ttotal: 1.61s\tremaining: 2.11s\n",
            "433:\tlearn: 5.1887093\ttotal: 1.61s\tremaining: 2.1s\n",
            "434:\tlearn: 5.1882172\ttotal: 1.61s\tremaining: 2.1s\n",
            "435:\tlearn: 5.1875351\ttotal: 1.62s\tremaining: 2.09s\n",
            "436:\tlearn: 5.1872138\ttotal: 1.62s\tremaining: 2.09s\n",
            "437:\tlearn: 5.1866644\ttotal: 1.63s\tremaining: 2.09s\n",
            "438:\tlearn: 5.1858342\ttotal: 1.63s\tremaining: 2.08s\n",
            "439:\tlearn: 5.1852836\ttotal: 1.63s\tremaining: 2.08s\n",
            "440:\tlearn: 5.1843428\ttotal: 1.64s\tremaining: 2.08s\n",
            "441:\tlearn: 5.1834173\ttotal: 1.64s\tremaining: 2.07s\n",
            "442:\tlearn: 5.1825026\ttotal: 1.65s\tremaining: 2.07s\n",
            "443:\tlearn: 5.1818571\ttotal: 1.65s\tremaining: 2.06s\n",
            "444:\tlearn: 5.1813520\ttotal: 1.65s\tremaining: 2.06s\n",
            "445:\tlearn: 5.1806487\ttotal: 1.66s\tremaining: 2.06s\n",
            "446:\tlearn: 5.1798894\ttotal: 1.66s\tremaining: 2.05s\n",
            "447:\tlearn: 5.1794898\ttotal: 1.66s\tremaining: 2.05s\n",
            "448:\tlearn: 5.1787939\ttotal: 1.67s\tremaining: 2.04s\n",
            "449:\tlearn: 5.1776627\ttotal: 1.67s\tremaining: 2.04s\n",
            "450:\tlearn: 5.1766750\ttotal: 1.67s\tremaining: 2.04s\n",
            "451:\tlearn: 5.1760405\ttotal: 1.68s\tremaining: 2.03s\n",
            "452:\tlearn: 5.1756072\ttotal: 1.68s\tremaining: 2.03s\n",
            "453:\tlearn: 5.1743553\ttotal: 1.68s\tremaining: 2.03s\n",
            "454:\tlearn: 5.1731121\ttotal: 1.69s\tremaining: 2.02s\n",
            "455:\tlearn: 5.1718422\ttotal: 1.69s\tremaining: 2.02s\n",
            "456:\tlearn: 5.1712187\ttotal: 1.69s\tremaining: 2.01s\n",
            "457:\tlearn: 5.1708074\ttotal: 1.7s\tremaining: 2.01s\n",
            "458:\tlearn: 5.1702137\ttotal: 1.7s\tremaining: 2s\n",
            "459:\tlearn: 5.1695238\ttotal: 1.71s\tremaining: 2s\n",
            "460:\tlearn: 5.1693392\ttotal: 1.71s\tremaining: 2s\n",
            "461:\tlearn: 5.1689932\ttotal: 1.71s\tremaining: 1.99s\n",
            "462:\tlearn: 5.1679730\ttotal: 1.72s\tremaining: 1.99s\n",
            "463:\tlearn: 5.1667645\ttotal: 1.72s\tremaining: 1.99s\n",
            "464:\tlearn: 5.1665813\ttotal: 1.72s\tremaining: 1.98s\n",
            "465:\tlearn: 5.1659475\ttotal: 1.73s\tremaining: 1.98s\n",
            "466:\tlearn: 5.1654783\ttotal: 1.73s\tremaining: 1.97s\n",
            "467:\tlearn: 5.1636545\ttotal: 1.73s\tremaining: 1.97s\n",
            "468:\tlearn: 5.1627175\ttotal: 1.74s\tremaining: 1.97s\n",
            "469:\tlearn: 5.1622667\ttotal: 1.74s\tremaining: 1.96s\n",
            "470:\tlearn: 5.1614177\ttotal: 1.74s\tremaining: 1.96s\n",
            "471:\tlearn: 5.1607830\ttotal: 1.75s\tremaining: 1.96s\n",
            "472:\tlearn: 5.1600322\ttotal: 1.75s\tremaining: 1.95s\n",
            "473:\tlearn: 5.1589891\ttotal: 1.76s\tremaining: 1.95s\n",
            "474:\tlearn: 5.1567022\ttotal: 1.77s\tremaining: 1.96s\n",
            "475:\tlearn: 5.1561787\ttotal: 1.77s\tremaining: 1.95s\n",
            "476:\tlearn: 5.1552724\ttotal: 1.78s\tremaining: 1.95s\n",
            "477:\tlearn: 5.1548374\ttotal: 1.78s\tremaining: 1.94s\n",
            "478:\tlearn: 5.1543893\ttotal: 1.78s\tremaining: 1.94s\n",
            "479:\tlearn: 5.1518983\ttotal: 1.79s\tremaining: 1.94s\n",
            "480:\tlearn: 5.1514434\ttotal: 1.79s\tremaining: 1.93s\n",
            "481:\tlearn: 5.1503345\ttotal: 1.79s\tremaining: 1.93s\n",
            "482:\tlearn: 5.1494581\ttotal: 1.8s\tremaining: 1.92s\n",
            "483:\tlearn: 5.1489493\ttotal: 1.8s\tremaining: 1.92s\n",
            "484:\tlearn: 5.1467324\ttotal: 1.8s\tremaining: 1.92s\n",
            "485:\tlearn: 5.1465318\ttotal: 1.81s\tremaining: 1.91s\n",
            "486:\tlearn: 5.1459676\ttotal: 1.81s\tremaining: 1.91s\n",
            "487:\tlearn: 5.1454767\ttotal: 1.81s\tremaining: 1.9s\n",
            "488:\tlearn: 5.1444817\ttotal: 1.82s\tremaining: 1.9s\n",
            "489:\tlearn: 5.1435530\ttotal: 1.82s\tremaining: 1.9s\n",
            "490:\tlearn: 5.1431361\ttotal: 1.82s\tremaining: 1.89s\n",
            "491:\tlearn: 5.1427215\ttotal: 1.83s\tremaining: 1.89s\n",
            "492:\tlearn: 5.1422849\ttotal: 1.83s\tremaining: 1.88s\n",
            "493:\tlearn: 5.1414979\ttotal: 1.83s\tremaining: 1.88s\n",
            "494:\tlearn: 5.1412200\ttotal: 1.84s\tremaining: 1.88s\n",
            "495:\tlearn: 5.1410325\ttotal: 1.84s\tremaining: 1.87s\n",
            "496:\tlearn: 5.1395610\ttotal: 1.84s\tremaining: 1.87s\n",
            "497:\tlearn: 5.1394765\ttotal: 1.85s\tremaining: 1.86s\n",
            "498:\tlearn: 5.1385161\ttotal: 1.85s\tremaining: 1.86s\n",
            "499:\tlearn: 5.1379559\ttotal: 1.85s\tremaining: 1.85s\n",
            "500:\tlearn: 5.1361121\ttotal: 1.86s\tremaining: 1.85s\n",
            "501:\tlearn: 5.1357809\ttotal: 1.86s\tremaining: 1.85s\n",
            "502:\tlearn: 5.1350934\ttotal: 1.87s\tremaining: 1.84s\n",
            "503:\tlearn: 5.1338135\ttotal: 1.87s\tremaining: 1.84s\n",
            "504:\tlearn: 5.1331533\ttotal: 1.87s\tremaining: 1.84s\n",
            "505:\tlearn: 5.1328558\ttotal: 1.88s\tremaining: 1.83s\n",
            "506:\tlearn: 5.1323227\ttotal: 1.88s\tremaining: 1.83s\n",
            "507:\tlearn: 5.1309877\ttotal: 1.89s\tremaining: 1.83s\n",
            "508:\tlearn: 5.1302503\ttotal: 1.89s\tremaining: 1.82s\n",
            "509:\tlearn: 5.1291820\ttotal: 1.89s\tremaining: 1.82s\n",
            "510:\tlearn: 5.1283257\ttotal: 1.9s\tremaining: 1.81s\n",
            "511:\tlearn: 5.1273970\ttotal: 1.9s\tremaining: 1.81s\n",
            "512:\tlearn: 5.1268694\ttotal: 1.9s\tremaining: 1.81s\n",
            "513:\tlearn: 5.1263687\ttotal: 1.91s\tremaining: 1.8s\n",
            "514:\tlearn: 5.1252912\ttotal: 1.91s\tremaining: 1.8s\n",
            "515:\tlearn: 5.1252044\ttotal: 1.91s\tremaining: 1.8s\n",
            "516:\tlearn: 5.1239475\ttotal: 1.92s\tremaining: 1.79s\n",
            "517:\tlearn: 5.1233394\ttotal: 1.92s\tremaining: 1.79s\n",
            "518:\tlearn: 5.1225979\ttotal: 1.93s\tremaining: 1.78s\n",
            "519:\tlearn: 5.1216888\ttotal: 1.93s\tremaining: 1.78s\n",
            "520:\tlearn: 5.1215123\ttotal: 1.93s\tremaining: 1.78s\n",
            "521:\tlearn: 5.1205410\ttotal: 1.94s\tremaining: 1.77s\n",
            "522:\tlearn: 5.1198970\ttotal: 1.94s\tremaining: 1.77s\n",
            "523:\tlearn: 5.1195819\ttotal: 1.94s\tremaining: 1.76s\n",
            "524:\tlearn: 5.1194603\ttotal: 1.95s\tremaining: 1.76s\n",
            "525:\tlearn: 5.1182156\ttotal: 1.95s\tremaining: 1.76s\n",
            "526:\tlearn: 5.1176316\ttotal: 1.95s\tremaining: 1.75s\n",
            "527:\tlearn: 5.1155462\ttotal: 1.96s\tremaining: 1.75s\n",
            "528:\tlearn: 5.1138403\ttotal: 1.96s\tremaining: 1.75s\n",
            "529:\tlearn: 5.1130597\ttotal: 1.97s\tremaining: 1.75s\n",
            "530:\tlearn: 5.1126733\ttotal: 1.97s\tremaining: 1.74s\n",
            "531:\tlearn: 5.1121272\ttotal: 1.98s\tremaining: 1.74s\n",
            "532:\tlearn: 5.1115456\ttotal: 1.98s\tremaining: 1.74s\n",
            "533:\tlearn: 5.1111395\ttotal: 1.98s\tremaining: 1.73s\n",
            "534:\tlearn: 5.1110225\ttotal: 1.99s\tremaining: 1.73s\n",
            "535:\tlearn: 5.1106156\ttotal: 1.99s\tremaining: 1.72s\n",
            "536:\tlearn: 5.1092100\ttotal: 1.99s\tremaining: 1.72s\n",
            "537:\tlearn: 5.1087229\ttotal: 2s\tremaining: 1.72s\n",
            "538:\tlearn: 5.1083324\ttotal: 2s\tremaining: 1.71s\n",
            "539:\tlearn: 5.1076625\ttotal: 2s\tremaining: 1.71s\n",
            "540:\tlearn: 5.1075542\ttotal: 2.01s\tremaining: 1.7s\n",
            "541:\tlearn: 5.1052598\ttotal: 2.01s\tremaining: 1.7s\n",
            "542:\tlearn: 5.1042061\ttotal: 2.02s\tremaining: 1.7s\n",
            "543:\tlearn: 5.1037535\ttotal: 2.02s\tremaining: 1.69s\n",
            "544:\tlearn: 5.1025808\ttotal: 2.02s\tremaining: 1.69s\n",
            "545:\tlearn: 5.1021961\ttotal: 2.02s\tremaining: 1.68s\n",
            "546:\tlearn: 5.1012007\ttotal: 2.03s\tremaining: 1.68s\n",
            "547:\tlearn: 5.1007796\ttotal: 2.03s\tremaining: 1.68s\n",
            "548:\tlearn: 5.0997605\ttotal: 2.04s\tremaining: 1.67s\n",
            "549:\tlearn: 5.0992069\ttotal: 2.04s\tremaining: 1.67s\n",
            "550:\tlearn: 5.0987572\ttotal: 2.04s\tremaining: 1.66s\n",
            "551:\tlearn: 5.0985553\ttotal: 2.05s\tremaining: 1.66s\n",
            "552:\tlearn: 5.0982337\ttotal: 2.05s\tremaining: 1.66s\n",
            "553:\tlearn: 5.0966126\ttotal: 2.05s\tremaining: 1.65s\n",
            "554:\tlearn: 5.0963774\ttotal: 2.06s\tremaining: 1.65s\n",
            "555:\tlearn: 5.0962610\ttotal: 2.06s\tremaining: 1.64s\n",
            "556:\tlearn: 5.0957309\ttotal: 2.06s\tremaining: 1.64s\n",
            "557:\tlearn: 5.0947267\ttotal: 2.07s\tremaining: 1.64s\n",
            "558:\tlearn: 5.0927334\ttotal: 2.07s\tremaining: 1.64s\n",
            "559:\tlearn: 5.0919319\ttotal: 2.08s\tremaining: 1.63s\n",
            "560:\tlearn: 5.0908381\ttotal: 2.08s\tremaining: 1.63s\n",
            "561:\tlearn: 5.0904909\ttotal: 2.08s\tremaining: 1.63s\n",
            "562:\tlearn: 5.0893826\ttotal: 2.09s\tremaining: 1.62s\n",
            "563:\tlearn: 5.0891981\ttotal: 2.09s\tremaining: 1.62s\n",
            "564:\tlearn: 5.0881083\ttotal: 2.1s\tremaining: 1.61s\n",
            "565:\tlearn: 5.0875294\ttotal: 2.1s\tremaining: 1.61s\n",
            "566:\tlearn: 5.0868472\ttotal: 2.1s\tremaining: 1.61s\n",
            "567:\tlearn: 5.0863214\ttotal: 2.11s\tremaining: 1.6s\n",
            "568:\tlearn: 5.0854258\ttotal: 2.11s\tremaining: 1.6s\n",
            "569:\tlearn: 5.0843055\ttotal: 2.11s\tremaining: 1.59s\n",
            "570:\tlearn: 5.0831943\ttotal: 2.12s\tremaining: 1.59s\n",
            "571:\tlearn: 5.0824657\ttotal: 2.12s\tremaining: 1.59s\n",
            "572:\tlearn: 5.0823213\ttotal: 2.12s\tremaining: 1.58s\n",
            "573:\tlearn: 5.0819331\ttotal: 2.13s\tremaining: 1.58s\n",
            "574:\tlearn: 5.0804194\ttotal: 2.13s\tremaining: 1.57s\n",
            "575:\tlearn: 5.0801420\ttotal: 2.13s\tremaining: 1.57s\n",
            "576:\tlearn: 5.0789368\ttotal: 2.14s\tremaining: 1.57s\n",
            "577:\tlearn: 5.0786136\ttotal: 2.14s\tremaining: 1.56s\n",
            "578:\tlearn: 5.0782093\ttotal: 2.15s\tremaining: 1.56s\n",
            "579:\tlearn: 5.0768040\ttotal: 2.15s\tremaining: 1.56s\n",
            "580:\tlearn: 5.0766109\ttotal: 2.16s\tremaining: 1.56s\n",
            "581:\tlearn: 5.0760666\ttotal: 2.16s\tremaining: 1.55s\n",
            "582:\tlearn: 5.0756419\ttotal: 2.17s\tremaining: 1.55s\n",
            "583:\tlearn: 5.0750285\ttotal: 2.17s\tremaining: 1.54s\n",
            "584:\tlearn: 5.0740473\ttotal: 2.17s\tremaining: 1.54s\n",
            "585:\tlearn: 5.0733718\ttotal: 2.18s\tremaining: 1.54s\n",
            "586:\tlearn: 5.0729428\ttotal: 2.18s\tremaining: 1.53s\n",
            "587:\tlearn: 5.0727390\ttotal: 2.18s\tremaining: 1.53s\n",
            "588:\tlearn: 5.0718119\ttotal: 2.19s\tremaining: 1.53s\n",
            "589:\tlearn: 5.0715819\ttotal: 2.19s\tremaining: 1.52s\n",
            "590:\tlearn: 5.0711473\ttotal: 2.2s\tremaining: 1.52s\n",
            "591:\tlearn: 5.0701958\ttotal: 2.2s\tremaining: 1.51s\n",
            "592:\tlearn: 5.0691954\ttotal: 2.2s\tremaining: 1.51s\n",
            "593:\tlearn: 5.0686778\ttotal: 2.21s\tremaining: 1.51s\n",
            "594:\tlearn: 5.0684661\ttotal: 2.21s\tremaining: 1.5s\n",
            "595:\tlearn: 5.0676264\ttotal: 2.21s\tremaining: 1.5s\n",
            "596:\tlearn: 5.0672336\ttotal: 2.22s\tremaining: 1.5s\n",
            "597:\tlearn: 5.0664412\ttotal: 2.22s\tremaining: 1.49s\n",
            "598:\tlearn: 5.0640889\ttotal: 2.22s\tremaining: 1.49s\n",
            "599:\tlearn: 5.0633368\ttotal: 2.23s\tremaining: 1.48s\n",
            "600:\tlearn: 5.0627731\ttotal: 2.23s\tremaining: 1.48s\n",
            "601:\tlearn: 5.0617627\ttotal: 2.23s\tremaining: 1.48s\n",
            "602:\tlearn: 5.0605044\ttotal: 2.24s\tremaining: 1.47s\n",
            "603:\tlearn: 5.0604020\ttotal: 2.24s\tremaining: 1.47s\n",
            "604:\tlearn: 5.0599341\ttotal: 2.25s\tremaining: 1.47s\n",
            "605:\tlearn: 5.0592194\ttotal: 2.25s\tremaining: 1.46s\n",
            "606:\tlearn: 5.0574776\ttotal: 2.25s\tremaining: 1.46s\n",
            "607:\tlearn: 5.0565704\ttotal: 2.26s\tremaining: 1.46s\n",
            "608:\tlearn: 5.0558655\ttotal: 2.26s\tremaining: 1.45s\n",
            "609:\tlearn: 5.0555352\ttotal: 2.26s\tremaining: 1.45s\n",
            "610:\tlearn: 5.0538459\ttotal: 2.27s\tremaining: 1.44s\n",
            "611:\tlearn: 5.0534671\ttotal: 2.27s\tremaining: 1.44s\n",
            "612:\tlearn: 5.0527639\ttotal: 2.28s\tremaining: 1.44s\n",
            "613:\tlearn: 5.0525234\ttotal: 2.28s\tremaining: 1.43s\n",
            "614:\tlearn: 5.0522685\ttotal: 2.28s\tremaining: 1.43s\n",
            "615:\tlearn: 5.0519083\ttotal: 2.29s\tremaining: 1.43s\n",
            "616:\tlearn: 5.0510862\ttotal: 2.29s\tremaining: 1.42s\n",
            "617:\tlearn: 5.0504161\ttotal: 2.29s\tremaining: 1.42s\n",
            "618:\tlearn: 5.0491913\ttotal: 2.3s\tremaining: 1.41s\n",
            "619:\tlearn: 5.0482649\ttotal: 2.3s\tremaining: 1.41s\n",
            "620:\tlearn: 5.0480461\ttotal: 2.31s\tremaining: 1.41s\n",
            "621:\tlearn: 5.0473146\ttotal: 2.31s\tremaining: 1.4s\n",
            "622:\tlearn: 5.0469125\ttotal: 2.31s\tremaining: 1.4s\n",
            "623:\tlearn: 5.0457490\ttotal: 2.32s\tremaining: 1.4s\n",
            "624:\tlearn: 5.0449501\ttotal: 2.32s\tremaining: 1.39s\n",
            "625:\tlearn: 5.0428126\ttotal: 2.32s\tremaining: 1.39s\n",
            "626:\tlearn: 5.0417217\ttotal: 2.33s\tremaining: 1.38s\n",
            "627:\tlearn: 5.0410929\ttotal: 2.33s\tremaining: 1.38s\n",
            "628:\tlearn: 5.0397316\ttotal: 2.33s\tremaining: 1.38s\n",
            "629:\tlearn: 5.0396225\ttotal: 2.34s\tremaining: 1.37s\n",
            "630:\tlearn: 5.0388952\ttotal: 2.34s\tremaining: 1.37s\n",
            "631:\tlearn: 5.0384254\ttotal: 2.34s\tremaining: 1.36s\n",
            "632:\tlearn: 5.0379573\ttotal: 2.35s\tremaining: 1.36s\n",
            "633:\tlearn: 5.0371373\ttotal: 2.36s\tremaining: 1.36s\n",
            "634:\tlearn: 5.0360157\ttotal: 2.36s\tremaining: 1.36s\n",
            "635:\tlearn: 5.0355310\ttotal: 2.36s\tremaining: 1.35s\n",
            "636:\tlearn: 5.0352456\ttotal: 2.37s\tremaining: 1.35s\n",
            "637:\tlearn: 5.0348987\ttotal: 2.37s\tremaining: 1.34s\n",
            "638:\tlearn: 5.0343690\ttotal: 2.37s\tremaining: 1.34s\n",
            "639:\tlearn: 5.0335205\ttotal: 2.38s\tremaining: 1.34s\n",
            "640:\tlearn: 5.0328593\ttotal: 2.38s\tremaining: 1.33s\n",
            "641:\tlearn: 5.0322262\ttotal: 2.38s\tremaining: 1.33s\n",
            "642:\tlearn: 5.0317307\ttotal: 2.39s\tremaining: 1.33s\n",
            "643:\tlearn: 5.0309208\ttotal: 2.39s\tremaining: 1.32s\n",
            "644:\tlearn: 5.0304431\ttotal: 2.4s\tremaining: 1.32s\n",
            "645:\tlearn: 5.0299361\ttotal: 2.4s\tremaining: 1.31s\n",
            "646:\tlearn: 5.0291475\ttotal: 2.4s\tremaining: 1.31s\n",
            "647:\tlearn: 5.0289736\ttotal: 2.41s\tremaining: 1.31s\n",
            "648:\tlearn: 5.0281387\ttotal: 2.41s\tremaining: 1.3s\n",
            "649:\tlearn: 5.0270705\ttotal: 2.42s\tremaining: 1.3s\n",
            "650:\tlearn: 5.0266584\ttotal: 2.42s\tremaining: 1.3s\n",
            "651:\tlearn: 5.0261198\ttotal: 2.42s\tremaining: 1.29s\n",
            "652:\tlearn: 5.0254449\ttotal: 2.43s\tremaining: 1.29s\n",
            "653:\tlearn: 5.0248764\ttotal: 2.44s\tremaining: 1.29s\n",
            "654:\tlearn: 5.0242705\ttotal: 2.44s\tremaining: 1.29s\n",
            "655:\tlearn: 5.0239255\ttotal: 2.44s\tremaining: 1.28s\n",
            "656:\tlearn: 5.0225151\ttotal: 2.45s\tremaining: 1.28s\n",
            "657:\tlearn: 5.0224270\ttotal: 2.45s\tremaining: 1.27s\n",
            "658:\tlearn: 5.0222074\ttotal: 2.46s\tremaining: 1.27s\n",
            "659:\tlearn: 5.0202437\ttotal: 2.46s\tremaining: 1.27s\n",
            "660:\tlearn: 5.0200042\ttotal: 2.46s\tremaining: 1.26s\n",
            "661:\tlearn: 5.0192590\ttotal: 2.47s\tremaining: 1.26s\n",
            "662:\tlearn: 5.0183164\ttotal: 2.47s\tremaining: 1.26s\n",
            "663:\tlearn: 5.0181027\ttotal: 2.48s\tremaining: 1.25s\n",
            "664:\tlearn: 5.0175256\ttotal: 2.48s\tremaining: 1.25s\n",
            "665:\tlearn: 5.0170877\ttotal: 2.48s\tremaining: 1.25s\n",
            "666:\tlearn: 5.0167728\ttotal: 2.49s\tremaining: 1.24s\n",
            "667:\tlearn: 5.0150263\ttotal: 2.49s\tremaining: 1.24s\n",
            "668:\tlearn: 5.0142372\ttotal: 2.5s\tremaining: 1.24s\n",
            "669:\tlearn: 5.0135169\ttotal: 2.5s\tremaining: 1.23s\n",
            "670:\tlearn: 5.0117507\ttotal: 2.5s\tremaining: 1.23s\n",
            "671:\tlearn: 5.0111973\ttotal: 2.51s\tremaining: 1.22s\n",
            "672:\tlearn: 5.0107254\ttotal: 2.51s\tremaining: 1.22s\n",
            "673:\tlearn: 5.0105247\ttotal: 2.51s\tremaining: 1.22s\n",
            "674:\tlearn: 5.0101116\ttotal: 2.52s\tremaining: 1.21s\n",
            "675:\tlearn: 5.0092113\ttotal: 2.52s\tremaining: 1.21s\n",
            "676:\tlearn: 5.0090269\ttotal: 2.52s\tremaining: 1.2s\n",
            "677:\tlearn: 5.0084998\ttotal: 2.53s\tremaining: 1.2s\n",
            "678:\tlearn: 5.0080740\ttotal: 2.53s\tremaining: 1.2s\n",
            "679:\tlearn: 5.0073349\ttotal: 2.54s\tremaining: 1.19s\n",
            "680:\tlearn: 5.0064425\ttotal: 2.54s\tremaining: 1.19s\n",
            "681:\tlearn: 5.0053562\ttotal: 2.54s\tremaining: 1.19s\n",
            "682:\tlearn: 5.0051098\ttotal: 2.55s\tremaining: 1.18s\n",
            "683:\tlearn: 5.0048162\ttotal: 2.56s\tremaining: 1.18s\n",
            "684:\tlearn: 5.0033745\ttotal: 2.56s\tremaining: 1.18s\n",
            "685:\tlearn: 5.0016744\ttotal: 2.56s\tremaining: 1.17s\n",
            "686:\tlearn: 5.0008072\ttotal: 2.57s\tremaining: 1.17s\n",
            "687:\tlearn: 5.0006675\ttotal: 2.57s\tremaining: 1.17s\n",
            "688:\tlearn: 4.9996196\ttotal: 2.58s\tremaining: 1.16s\n",
            "689:\tlearn: 4.9988608\ttotal: 2.58s\tremaining: 1.16s\n",
            "690:\tlearn: 4.9980451\ttotal: 2.58s\tremaining: 1.16s\n",
            "691:\tlearn: 4.9967184\ttotal: 2.59s\tremaining: 1.15s\n",
            "692:\tlearn: 4.9963974\ttotal: 2.59s\tremaining: 1.15s\n",
            "693:\tlearn: 4.9961691\ttotal: 2.59s\tremaining: 1.14s\n",
            "694:\tlearn: 4.9949950\ttotal: 2.6s\tremaining: 1.14s\n",
            "695:\tlearn: 4.9938711\ttotal: 2.6s\tremaining: 1.14s\n",
            "696:\tlearn: 4.9934896\ttotal: 2.6s\tremaining: 1.13s\n",
            "697:\tlearn: 4.9931201\ttotal: 2.61s\tremaining: 1.13s\n",
            "698:\tlearn: 4.9923486\ttotal: 2.61s\tremaining: 1.13s\n",
            "699:\tlearn: 4.9919875\ttotal: 2.63s\tremaining: 1.13s\n",
            "700:\tlearn: 4.9916927\ttotal: 2.63s\tremaining: 1.12s\n",
            "701:\tlearn: 4.9915940\ttotal: 2.63s\tremaining: 1.12s\n",
            "702:\tlearn: 4.9910284\ttotal: 2.64s\tremaining: 1.11s\n",
            "703:\tlearn: 4.9896884\ttotal: 2.64s\tremaining: 1.11s\n",
            "704:\tlearn: 4.9892492\ttotal: 2.64s\tremaining: 1.11s\n",
            "705:\tlearn: 4.9886771\ttotal: 2.65s\tremaining: 1.1s\n",
            "706:\tlearn: 4.9886362\ttotal: 2.65s\tremaining: 1.1s\n",
            "707:\tlearn: 4.9885283\ttotal: 2.65s\tremaining: 1.09s\n",
            "708:\tlearn: 4.9884330\ttotal: 2.66s\tremaining: 1.09s\n",
            "709:\tlearn: 4.9870760\ttotal: 2.66s\tremaining: 1.09s\n",
            "710:\tlearn: 4.9869853\ttotal: 2.67s\tremaining: 1.08s\n",
            "711:\tlearn: 4.9858324\ttotal: 2.67s\tremaining: 1.08s\n",
            "712:\tlearn: 4.9854019\ttotal: 2.67s\tremaining: 1.08s\n",
            "713:\tlearn: 4.9846104\ttotal: 2.68s\tremaining: 1.07s\n",
            "714:\tlearn: 4.9828333\ttotal: 2.68s\tremaining: 1.07s\n",
            "715:\tlearn: 4.9826560\ttotal: 2.68s\tremaining: 1.06s\n",
            "716:\tlearn: 4.9818420\ttotal: 2.69s\tremaining: 1.06s\n",
            "717:\tlearn: 4.9813714\ttotal: 2.69s\tremaining: 1.06s\n",
            "718:\tlearn: 4.9807583\ttotal: 2.69s\tremaining: 1.05s\n",
            "719:\tlearn: 4.9794639\ttotal: 2.7s\tremaining: 1.05s\n",
            "720:\tlearn: 4.9784999\ttotal: 2.7s\tremaining: 1.04s\n",
            "721:\tlearn: 4.9776463\ttotal: 2.71s\tremaining: 1.04s\n",
            "722:\tlearn: 4.9773966\ttotal: 2.71s\tremaining: 1.04s\n",
            "723:\tlearn: 4.9761190\ttotal: 2.71s\tremaining: 1.03s\n",
            "724:\tlearn: 4.9752947\ttotal: 2.72s\tremaining: 1.03s\n",
            "725:\tlearn: 4.9746302\ttotal: 2.72s\tremaining: 1.03s\n",
            "726:\tlearn: 4.9740219\ttotal: 2.73s\tremaining: 1.03s\n",
            "727:\tlearn: 4.9734627\ttotal: 2.74s\tremaining: 1.02s\n",
            "728:\tlearn: 4.9730088\ttotal: 2.74s\tremaining: 1.02s\n",
            "729:\tlearn: 4.9721505\ttotal: 2.75s\tremaining: 1.01s\n",
            "730:\tlearn: 4.9718452\ttotal: 2.75s\tremaining: 1.01s\n",
            "731:\tlearn: 4.9715501\ttotal: 2.76s\tremaining: 1.01s\n",
            "732:\tlearn: 4.9708513\ttotal: 2.76s\tremaining: 1s\n",
            "733:\tlearn: 4.9697037\ttotal: 2.76s\tremaining: 1s\n",
            "734:\tlearn: 4.9688613\ttotal: 2.77s\tremaining: 998ms\n",
            "735:\tlearn: 4.9682758\ttotal: 2.77s\tremaining: 995ms\n",
            "736:\tlearn: 4.9678896\ttotal: 2.78s\tremaining: 991ms\n",
            "737:\tlearn: 4.9672436\ttotal: 2.78s\tremaining: 987ms\n",
            "738:\tlearn: 4.9667751\ttotal: 2.78s\tremaining: 983ms\n",
            "739:\tlearn: 4.9663441\ttotal: 2.79s\tremaining: 979ms\n",
            "740:\tlearn: 4.9652922\ttotal: 2.79s\tremaining: 975ms\n",
            "741:\tlearn: 4.9651336\ttotal: 2.79s\tremaining: 971ms\n",
            "742:\tlearn: 4.9644247\ttotal: 2.8s\tremaining: 967ms\n",
            "743:\tlearn: 4.9641604\ttotal: 2.8s\tremaining: 964ms\n",
            "744:\tlearn: 4.9634361\ttotal: 2.8s\tremaining: 960ms\n",
            "745:\tlearn: 4.9618691\ttotal: 2.81s\tremaining: 956ms\n",
            "746:\tlearn: 4.9616870\ttotal: 2.81s\tremaining: 952ms\n",
            "747:\tlearn: 4.9612220\ttotal: 2.81s\tremaining: 948ms\n",
            "748:\tlearn: 4.9605866\ttotal: 2.82s\tremaining: 944ms\n",
            "749:\tlearn: 4.9600277\ttotal: 2.82s\tremaining: 940ms\n",
            "750:\tlearn: 4.9592412\ttotal: 2.83s\tremaining: 937ms\n",
            "751:\tlearn: 4.9583798\ttotal: 2.83s\tremaining: 933ms\n",
            "752:\tlearn: 4.9580318\ttotal: 2.83s\tremaining: 929ms\n",
            "753:\tlearn: 4.9577548\ttotal: 2.83s\tremaining: 925ms\n",
            "754:\tlearn: 4.9567352\ttotal: 2.84s\tremaining: 921ms\n",
            "755:\tlearn: 4.9558571\ttotal: 2.84s\tremaining: 918ms\n",
            "756:\tlearn: 4.9554939\ttotal: 2.85s\tremaining: 914ms\n",
            "757:\tlearn: 4.9539831\ttotal: 2.85s\tremaining: 910ms\n",
            "758:\tlearn: 4.9538318\ttotal: 2.85s\tremaining: 907ms\n",
            "759:\tlearn: 4.9536283\ttotal: 2.86s\tremaining: 903ms\n",
            "760:\tlearn: 4.9531647\ttotal: 2.86s\tremaining: 899ms\n",
            "761:\tlearn: 4.9517101\ttotal: 2.87s\tremaining: 895ms\n",
            "762:\tlearn: 4.9513001\ttotal: 2.87s\tremaining: 891ms\n",
            "763:\tlearn: 4.9503869\ttotal: 2.87s\tremaining: 887ms\n",
            "764:\tlearn: 4.9500866\ttotal: 2.88s\tremaining: 883ms\n",
            "765:\tlearn: 4.9486277\ttotal: 2.88s\tremaining: 880ms\n",
            "766:\tlearn: 4.9482204\ttotal: 2.88s\tremaining: 876ms\n",
            "767:\tlearn: 4.9479511\ttotal: 2.89s\tremaining: 872ms\n",
            "768:\tlearn: 4.9471669\ttotal: 2.89s\tremaining: 868ms\n",
            "769:\tlearn: 4.9460344\ttotal: 2.89s\tremaining: 864ms\n",
            "770:\tlearn: 4.9449683\ttotal: 2.9s\tremaining: 861ms\n",
            "771:\tlearn: 4.9440527\ttotal: 2.9s\tremaining: 857ms\n",
            "772:\tlearn: 4.9428123\ttotal: 2.9s\tremaining: 853ms\n",
            "773:\tlearn: 4.9423298\ttotal: 2.91s\tremaining: 849ms\n",
            "774:\tlearn: 4.9416873\ttotal: 2.91s\tremaining: 845ms\n",
            "775:\tlearn: 4.9397143\ttotal: 2.91s\tremaining: 841ms\n",
            "776:\tlearn: 4.9387101\ttotal: 2.92s\tremaining: 838ms\n",
            "777:\tlearn: 4.9379664\ttotal: 2.92s\tremaining: 834ms\n",
            "778:\tlearn: 4.9376315\ttotal: 2.92s\tremaining: 830ms\n",
            "779:\tlearn: 4.9371342\ttotal: 2.93s\tremaining: 826ms\n",
            "780:\tlearn: 4.9368854\ttotal: 2.93s\tremaining: 822ms\n",
            "781:\tlearn: 4.9365441\ttotal: 2.94s\tremaining: 818ms\n",
            "782:\tlearn: 4.9364300\ttotal: 2.94s\tremaining: 814ms\n",
            "783:\tlearn: 4.9359521\ttotal: 2.94s\tremaining: 811ms\n",
            "784:\tlearn: 4.9349978\ttotal: 2.95s\tremaining: 808ms\n",
            "785:\tlearn: 4.9342959\ttotal: 2.95s\tremaining: 804ms\n",
            "786:\tlearn: 4.9331590\ttotal: 2.96s\tremaining: 800ms\n",
            "787:\tlearn: 4.9327928\ttotal: 2.96s\tremaining: 797ms\n",
            "788:\tlearn: 4.9320074\ttotal: 2.96s\tremaining: 793ms\n",
            "789:\tlearn: 4.9312309\ttotal: 2.97s\tremaining: 789ms\n",
            "790:\tlearn: 4.9310442\ttotal: 2.97s\tremaining: 785ms\n",
            "791:\tlearn: 4.9303874\ttotal: 2.97s\tremaining: 781ms\n",
            "792:\tlearn: 4.9297112\ttotal: 2.98s\tremaining: 777ms\n",
            "793:\tlearn: 4.9291200\ttotal: 2.98s\tremaining: 773ms\n",
            "794:\tlearn: 4.9284474\ttotal: 2.98s\tremaining: 769ms\n",
            "795:\tlearn: 4.9277180\ttotal: 2.99s\tremaining: 766ms\n",
            "796:\tlearn: 4.9275883\ttotal: 2.99s\tremaining: 762ms\n",
            "797:\tlearn: 4.9263591\ttotal: 2.99s\tremaining: 758ms\n",
            "798:\tlearn: 4.9256827\ttotal: 3s\tremaining: 754ms\n",
            "799:\tlearn: 4.9251740\ttotal: 3s\tremaining: 750ms\n",
            "800:\tlearn: 4.9245232\ttotal: 3s\tremaining: 746ms\n",
            "801:\tlearn: 4.9239852\ttotal: 3.01s\tremaining: 742ms\n",
            "802:\tlearn: 4.9224467\ttotal: 3.01s\tremaining: 739ms\n",
            "803:\tlearn: 4.9218815\ttotal: 3.01s\tremaining: 735ms\n",
            "804:\tlearn: 4.9217613\ttotal: 3.02s\tremaining: 731ms\n",
            "805:\tlearn: 4.9206935\ttotal: 3.02s\tremaining: 727ms\n",
            "806:\tlearn: 4.9204613\ttotal: 3.02s\tremaining: 723ms\n",
            "807:\tlearn: 4.9195309\ttotal: 3.03s\tremaining: 719ms\n",
            "808:\tlearn: 4.9172077\ttotal: 3.03s\tremaining: 716ms\n",
            "809:\tlearn: 4.9160128\ttotal: 3.03s\tremaining: 712ms\n",
            "810:\tlearn: 4.9155413\ttotal: 3.04s\tremaining: 708ms\n",
            "811:\tlearn: 4.9149860\ttotal: 3.04s\tremaining: 704ms\n",
            "812:\tlearn: 4.9147118\ttotal: 3.04s\tremaining: 700ms\n",
            "813:\tlearn: 4.9145027\ttotal: 3.05s\tremaining: 696ms\n",
            "814:\tlearn: 4.9136954\ttotal: 3.05s\tremaining: 692ms\n",
            "815:\tlearn: 4.9127382\ttotal: 3.05s\tremaining: 688ms\n",
            "816:\tlearn: 4.9123674\ttotal: 3.06s\tremaining: 685ms\n",
            "817:\tlearn: 4.9115399\ttotal: 3.06s\tremaining: 681ms\n",
            "818:\tlearn: 4.9103784\ttotal: 3.06s\tremaining: 677ms\n",
            "819:\tlearn: 4.9101862\ttotal: 3.07s\tremaining: 673ms\n",
            "820:\tlearn: 4.9093026\ttotal: 3.07s\tremaining: 669ms\n",
            "821:\tlearn: 4.9085459\ttotal: 3.08s\tremaining: 666ms\n",
            "822:\tlearn: 4.9082272\ttotal: 3.08s\tremaining: 662ms\n",
            "823:\tlearn: 4.9077714\ttotal: 3.08s\tremaining: 658ms\n",
            "824:\tlearn: 4.9071861\ttotal: 3.09s\tremaining: 655ms\n",
            "825:\tlearn: 4.9065620\ttotal: 3.09s\tremaining: 651ms\n",
            "826:\tlearn: 4.9053889\ttotal: 3.09s\tremaining: 647ms\n",
            "827:\tlearn: 4.9048348\ttotal: 3.1s\tremaining: 643ms\n",
            "828:\tlearn: 4.9043561\ttotal: 3.1s\tremaining: 640ms\n",
            "829:\tlearn: 4.9035464\ttotal: 3.1s\tremaining: 636ms\n",
            "830:\tlearn: 4.9026762\ttotal: 3.11s\tremaining: 632ms\n",
            "831:\tlearn: 4.9023548\ttotal: 3.11s\tremaining: 628ms\n",
            "832:\tlearn: 4.9019871\ttotal: 3.11s\tremaining: 624ms\n",
            "833:\tlearn: 4.9016662\ttotal: 3.12s\tremaining: 621ms\n",
            "834:\tlearn: 4.9006210\ttotal: 3.12s\tremaining: 617ms\n",
            "835:\tlearn: 4.9004691\ttotal: 3.13s\tremaining: 613ms\n",
            "836:\tlearn: 4.9002789\ttotal: 3.13s\tremaining: 609ms\n",
            "837:\tlearn: 4.8999110\ttotal: 3.13s\tremaining: 605ms\n",
            "838:\tlearn: 4.8994270\ttotal: 3.13s\tremaining: 602ms\n",
            "839:\tlearn: 4.8992533\ttotal: 3.14s\tremaining: 598ms\n",
            "840:\tlearn: 4.8988963\ttotal: 3.15s\tremaining: 595ms\n",
            "841:\tlearn: 4.8987651\ttotal: 3.15s\tremaining: 591ms\n",
            "842:\tlearn: 4.8982185\ttotal: 3.15s\tremaining: 587ms\n",
            "843:\tlearn: 4.8979367\ttotal: 3.16s\tremaining: 584ms\n",
            "844:\tlearn: 4.8964522\ttotal: 3.16s\tremaining: 580ms\n",
            "845:\tlearn: 4.8962721\ttotal: 3.16s\tremaining: 576ms\n",
            "846:\tlearn: 4.8959988\ttotal: 3.17s\tremaining: 572ms\n",
            "847:\tlearn: 4.8938208\ttotal: 3.17s\tremaining: 569ms\n",
            "848:\tlearn: 4.8936338\ttotal: 3.17s\tremaining: 565ms\n",
            "849:\tlearn: 4.8924534\ttotal: 3.18s\tremaining: 561ms\n",
            "850:\tlearn: 4.8915761\ttotal: 3.18s\tremaining: 557ms\n",
            "851:\tlearn: 4.8911147\ttotal: 3.19s\tremaining: 553ms\n",
            "852:\tlearn: 4.8891542\ttotal: 3.19s\tremaining: 549ms\n",
            "853:\tlearn: 4.8880721\ttotal: 3.19s\tremaining: 546ms\n",
            "854:\tlearn: 4.8870293\ttotal: 3.19s\tremaining: 542ms\n",
            "855:\tlearn: 4.8865995\ttotal: 3.2s\tremaining: 538ms\n",
            "856:\tlearn: 4.8863025\ttotal: 3.2s\tremaining: 534ms\n",
            "857:\tlearn: 4.8857064\ttotal: 3.21s\tremaining: 530ms\n",
            "858:\tlearn: 4.8828799\ttotal: 3.21s\tremaining: 527ms\n",
            "859:\tlearn: 4.8825493\ttotal: 3.21s\tremaining: 523ms\n",
            "860:\tlearn: 4.8823949\ttotal: 3.22s\tremaining: 519ms\n",
            "861:\tlearn: 4.8819711\ttotal: 3.22s\tremaining: 516ms\n",
            "862:\tlearn: 4.8812317\ttotal: 3.22s\tremaining: 512ms\n",
            "863:\tlearn: 4.8800702\ttotal: 3.23s\tremaining: 508ms\n",
            "864:\tlearn: 4.8798303\ttotal: 3.23s\tremaining: 504ms\n",
            "865:\tlearn: 4.8791314\ttotal: 3.23s\tremaining: 501ms\n",
            "866:\tlearn: 4.8785644\ttotal: 3.24s\tremaining: 497ms\n",
            "867:\tlearn: 4.8782847\ttotal: 3.24s\tremaining: 493ms\n",
            "868:\tlearn: 4.8777445\ttotal: 3.24s\tremaining: 489ms\n",
            "869:\tlearn: 4.8770084\ttotal: 3.25s\tremaining: 485ms\n",
            "870:\tlearn: 4.8764292\ttotal: 3.25s\tremaining: 482ms\n",
            "871:\tlearn: 4.8757626\ttotal: 3.25s\tremaining: 478ms\n",
            "872:\tlearn: 4.8754012\ttotal: 3.26s\tremaining: 474ms\n",
            "873:\tlearn: 4.8753309\ttotal: 3.26s\tremaining: 470ms\n",
            "874:\tlearn: 4.8751792\ttotal: 3.26s\tremaining: 466ms\n",
            "875:\tlearn: 4.8739621\ttotal: 3.27s\tremaining: 463ms\n",
            "876:\tlearn: 4.8733755\ttotal: 3.27s\tremaining: 459ms\n",
            "877:\tlearn: 4.8730508\ttotal: 3.27s\tremaining: 455ms\n",
            "878:\tlearn: 4.8718373\ttotal: 3.28s\tremaining: 451ms\n",
            "879:\tlearn: 4.8713903\ttotal: 3.28s\tremaining: 447ms\n",
            "880:\tlearn: 4.8702899\ttotal: 3.28s\tremaining: 444ms\n",
            "881:\tlearn: 4.8692449\ttotal: 3.29s\tremaining: 440ms\n",
            "882:\tlearn: 4.8686447\ttotal: 3.29s\tremaining: 436ms\n",
            "883:\tlearn: 4.8682235\ttotal: 3.29s\tremaining: 432ms\n",
            "884:\tlearn: 4.8669748\ttotal: 3.3s\tremaining: 429ms\n",
            "885:\tlearn: 4.8654852\ttotal: 3.3s\tremaining: 425ms\n",
            "886:\tlearn: 4.8654069\ttotal: 3.31s\tremaining: 421ms\n",
            "887:\tlearn: 4.8639610\ttotal: 3.31s\tremaining: 417ms\n",
            "888:\tlearn: 4.8627260\ttotal: 3.31s\tremaining: 414ms\n",
            "889:\tlearn: 4.8611729\ttotal: 3.32s\tremaining: 410ms\n",
            "890:\tlearn: 4.8601879\ttotal: 3.32s\tremaining: 406ms\n",
            "891:\tlearn: 4.8597029\ttotal: 3.33s\tremaining: 403ms\n",
            "892:\tlearn: 4.8591725\ttotal: 3.33s\tremaining: 399ms\n",
            "893:\tlearn: 4.8577042\ttotal: 3.33s\tremaining: 395ms\n",
            "894:\tlearn: 4.8572616\ttotal: 3.34s\tremaining: 392ms\n",
            "895:\tlearn: 4.8570673\ttotal: 3.34s\tremaining: 388ms\n",
            "896:\tlearn: 4.8568549\ttotal: 3.35s\tremaining: 384ms\n",
            "897:\tlearn: 4.8546800\ttotal: 3.35s\tremaining: 381ms\n",
            "898:\tlearn: 4.8543435\ttotal: 3.35s\tremaining: 377ms\n",
            "899:\tlearn: 4.8539809\ttotal: 3.36s\tremaining: 373ms\n",
            "900:\tlearn: 4.8518354\ttotal: 3.36s\tremaining: 369ms\n",
            "901:\tlearn: 4.8513954\ttotal: 3.36s\tremaining: 365ms\n",
            "902:\tlearn: 4.8504908\ttotal: 3.37s\tremaining: 362ms\n",
            "903:\tlearn: 4.8503891\ttotal: 3.37s\tremaining: 358ms\n",
            "904:\tlearn: 4.8502658\ttotal: 3.37s\tremaining: 354ms\n",
            "905:\tlearn: 4.8494249\ttotal: 3.38s\tremaining: 350ms\n",
            "906:\tlearn: 4.8482541\ttotal: 3.38s\tremaining: 347ms\n",
            "907:\tlearn: 4.8467810\ttotal: 3.38s\tremaining: 343ms\n",
            "908:\tlearn: 4.8463283\ttotal: 3.39s\tremaining: 339ms\n",
            "909:\tlearn: 4.8458732\ttotal: 3.39s\tremaining: 335ms\n",
            "910:\tlearn: 4.8451787\ttotal: 3.39s\tremaining: 332ms\n",
            "911:\tlearn: 4.8442887\ttotal: 3.4s\tremaining: 328ms\n",
            "912:\tlearn: 4.8434527\ttotal: 3.4s\tremaining: 324ms\n",
            "913:\tlearn: 4.8427605\ttotal: 3.4s\tremaining: 320ms\n",
            "914:\tlearn: 4.8425264\ttotal: 3.41s\tremaining: 317ms\n",
            "915:\tlearn: 4.8421590\ttotal: 3.41s\tremaining: 313ms\n",
            "916:\tlearn: 4.8420033\ttotal: 3.41s\tremaining: 309ms\n",
            "917:\tlearn: 4.8409204\ttotal: 3.42s\tremaining: 305ms\n",
            "918:\tlearn: 4.8404515\ttotal: 3.42s\tremaining: 302ms\n",
            "919:\tlearn: 4.8390428\ttotal: 3.42s\tremaining: 298ms\n",
            "920:\tlearn: 4.8387229\ttotal: 3.43s\tremaining: 294ms\n",
            "921:\tlearn: 4.8380306\ttotal: 3.43s\tremaining: 290ms\n",
            "922:\tlearn: 4.8375591\ttotal: 3.44s\tremaining: 287ms\n",
            "923:\tlearn: 4.8370248\ttotal: 3.44s\tremaining: 283ms\n",
            "924:\tlearn: 4.8364449\ttotal: 3.44s\tremaining: 279ms\n",
            "925:\tlearn: 4.8353023\ttotal: 3.44s\tremaining: 275ms\n",
            "926:\tlearn: 4.8349552\ttotal: 3.45s\tremaining: 272ms\n",
            "927:\tlearn: 4.8346424\ttotal: 3.45s\tremaining: 268ms\n",
            "928:\tlearn: 4.8339335\ttotal: 3.46s\tremaining: 264ms\n",
            "929:\tlearn: 4.8338300\ttotal: 3.46s\tremaining: 260ms\n",
            "930:\tlearn: 4.8335946\ttotal: 3.46s\tremaining: 257ms\n",
            "931:\tlearn: 4.8328519\ttotal: 3.47s\tremaining: 253ms\n",
            "932:\tlearn: 4.8312816\ttotal: 3.47s\tremaining: 249ms\n",
            "933:\tlearn: 4.8306622\ttotal: 3.47s\tremaining: 245ms\n",
            "934:\tlearn: 4.8303391\ttotal: 3.48s\tremaining: 242ms\n",
            "935:\tlearn: 4.8302392\ttotal: 3.48s\tremaining: 238ms\n",
            "936:\tlearn: 4.8292103\ttotal: 3.48s\tremaining: 234ms\n",
            "937:\tlearn: 4.8288743\ttotal: 3.49s\tremaining: 230ms\n",
            "938:\tlearn: 4.8286043\ttotal: 3.49s\tremaining: 227ms\n",
            "939:\tlearn: 4.8275319\ttotal: 3.49s\tremaining: 223ms\n",
            "940:\tlearn: 4.8267453\ttotal: 3.5s\tremaining: 219ms\n",
            "941:\tlearn: 4.8264192\ttotal: 3.5s\tremaining: 216ms\n",
            "942:\tlearn: 4.8253874\ttotal: 3.5s\tremaining: 212ms\n",
            "943:\tlearn: 4.8244730\ttotal: 3.51s\tremaining: 208ms\n",
            "944:\tlearn: 4.8233735\ttotal: 3.51s\tremaining: 204ms\n",
            "945:\tlearn: 4.8233505\ttotal: 3.51s\tremaining: 201ms\n",
            "946:\tlearn: 4.8231411\ttotal: 3.52s\tremaining: 197ms\n",
            "947:\tlearn: 4.8221235\ttotal: 3.52s\tremaining: 193ms\n",
            "948:\tlearn: 4.8216777\ttotal: 3.52s\tremaining: 189ms\n",
            "949:\tlearn: 4.8210158\ttotal: 3.53s\tremaining: 186ms\n",
            "950:\tlearn: 4.8204176\ttotal: 3.54s\tremaining: 182ms\n",
            "951:\tlearn: 4.8203357\ttotal: 3.55s\tremaining: 179ms\n",
            "952:\tlearn: 4.8196347\ttotal: 3.56s\tremaining: 175ms\n",
            "953:\tlearn: 4.8185584\ttotal: 3.57s\tremaining: 172ms\n",
            "954:\tlearn: 4.8180818\ttotal: 3.57s\tremaining: 168ms\n",
            "955:\tlearn: 4.8176521\ttotal: 3.58s\tremaining: 165ms\n",
            "956:\tlearn: 4.8168867\ttotal: 3.58s\tremaining: 161ms\n",
            "957:\tlearn: 4.8167871\ttotal: 3.58s\tremaining: 157ms\n",
            "958:\tlearn: 4.8156031\ttotal: 3.59s\tremaining: 153ms\n",
            "959:\tlearn: 4.8148929\ttotal: 3.59s\tremaining: 150ms\n",
            "960:\tlearn: 4.8144107\ttotal: 3.6s\tremaining: 146ms\n",
            "961:\tlearn: 4.8134738\ttotal: 3.6s\tremaining: 142ms\n",
            "962:\tlearn: 4.8116041\ttotal: 3.6s\tremaining: 138ms\n",
            "963:\tlearn: 4.8095299\ttotal: 3.61s\tremaining: 135ms\n",
            "964:\tlearn: 4.8087510\ttotal: 3.61s\tremaining: 131ms\n",
            "965:\tlearn: 4.8086840\ttotal: 3.62s\tremaining: 127ms\n",
            "966:\tlearn: 4.8086583\ttotal: 3.62s\tremaining: 123ms\n",
            "967:\tlearn: 4.8080019\ttotal: 3.62s\tremaining: 120ms\n",
            "968:\tlearn: 4.8077446\ttotal: 3.62s\tremaining: 116ms\n",
            "969:\tlearn: 4.8073204\ttotal: 3.63s\tremaining: 112ms\n",
            "970:\tlearn: 4.8068633\ttotal: 3.63s\tremaining: 108ms\n",
            "971:\tlearn: 4.8066952\ttotal: 3.64s\tremaining: 105ms\n",
            "972:\tlearn: 4.8056516\ttotal: 3.64s\tremaining: 101ms\n",
            "973:\tlearn: 4.8053933\ttotal: 3.64s\tremaining: 97.3ms\n",
            "974:\tlearn: 4.8050174\ttotal: 3.65s\tremaining: 93.6ms\n",
            "975:\tlearn: 4.8045004\ttotal: 3.65s\tremaining: 89.8ms\n",
            "976:\tlearn: 4.8039361\ttotal: 3.66s\tremaining: 86.1ms\n",
            "977:\tlearn: 4.8032348\ttotal: 3.66s\tremaining: 82.3ms\n",
            "978:\tlearn: 4.8029071\ttotal: 3.66s\tremaining: 78.6ms\n",
            "979:\tlearn: 4.8017089\ttotal: 3.67s\tremaining: 74.8ms\n",
            "980:\tlearn: 4.8010702\ttotal: 3.67s\tremaining: 71.1ms\n",
            "981:\tlearn: 4.8009117\ttotal: 3.67s\tremaining: 67.3ms\n",
            "982:\tlearn: 4.8007759\ttotal: 3.68s\tremaining: 63.6ms\n",
            "983:\tlearn: 4.8003571\ttotal: 3.68s\tremaining: 59.9ms\n",
            "984:\tlearn: 4.7997669\ttotal: 3.69s\tremaining: 56.2ms\n",
            "985:\tlearn: 4.7993501\ttotal: 3.69s\tremaining: 52.4ms\n",
            "986:\tlearn: 4.7985601\ttotal: 3.7s\tremaining: 48.7ms\n",
            "987:\tlearn: 4.7973655\ttotal: 3.7s\tremaining: 44.9ms\n",
            "988:\tlearn: 4.7970050\ttotal: 3.7s\tremaining: 41.2ms\n",
            "989:\tlearn: 4.7968079\ttotal: 3.71s\tremaining: 37.4ms\n",
            "990:\tlearn: 4.7964883\ttotal: 3.71s\tremaining: 33.7ms\n",
            "991:\tlearn: 4.7958507\ttotal: 3.71s\tremaining: 30ms\n",
            "992:\tlearn: 4.7952304\ttotal: 3.72s\tremaining: 26.2ms\n",
            "993:\tlearn: 4.7949124\ttotal: 3.72s\tremaining: 22.5ms\n",
            "994:\tlearn: 4.7942922\ttotal: 3.73s\tremaining: 18.7ms\n",
            "995:\tlearn: 4.7942133\ttotal: 3.73s\tremaining: 15ms\n",
            "996:\tlearn: 4.7937253\ttotal: 3.74s\tremaining: 11.2ms\n",
            "997:\tlearn: 4.7936947\ttotal: 3.74s\tremaining: 7.49ms\n",
            "998:\tlearn: 4.7928538\ttotal: 3.74s\tremaining: 3.75ms\n",
            "999:\tlearn: 4.7926455\ttotal: 3.75s\tremaining: 0us\n"
          ],
          "name": "stdout"
        },
        {
          "output_type": "execute_result",
          "data": {
            "text/plain": [
              "<catboost.core.CatBoostRegressor at 0x7f70f43a37d0>"
            ]
          },
          "metadata": {
            "tags": []
          },
          "execution_count": 454
        }
      ]
    },
    {
      "cell_type": "code",
      "metadata": {
        "id": "icAdbbHJw1Nb"
      },
      "source": [
        "pred=model.predict(test)\n",
        "#pred=np.exp(pred)\n",
        "#true=np.exp(true)\n",
        "test1=pd.DataFrame()\n",
        "test1['true']=true\n",
        "test1['pred']=pred"
      ],
      "execution_count": null,
      "outputs": []
    },
    {
      "cell_type": "code",
      "metadata": {
        "id": "JzoYRGIIxB-K"
      },
      "source": [
        "from sklearn.metrics import mean_squared_error"
      ],
      "execution_count": null,
      "outputs": []
    },
    {
      "cell_type": "code",
      "metadata": {
        "id": "1AYt1r2axD4T",
        "colab": {
          "base_uri": "https://localhost:8080/"
        },
        "outputId": "11e38168-52b2-4420-a3f1-cbbf90610259"
      },
      "source": [
        "mean_squared_error(true,pred)"
      ],
      "execution_count": null,
      "outputs": [
        {
          "output_type": "execute_result",
          "data": {
            "text/plain": [
              "31.635141151120106"
            ]
          },
          "metadata": {
            "tags": []
          },
          "execution_count": 457
        }
      ]
    },
    {
      "cell_type": "code",
      "metadata": {
        "id": "W5rYzNszzamw"
      },
      "source": [
        "pred1=model.predict(train)"
      ],
      "execution_count": null,
      "outputs": []
    },
    {
      "cell_type": "code",
      "metadata": {
        "id": "I3S_GLAGzmvP"
      },
      "source": [
        "#pred1=np.exp(pred1)\n",
        "#true1=np.exp(label)\n",
        "test2=pd.DataFrame()\n",
        "test2['true']=true\n",
        "test2['pred']=pred"
      ],
      "execution_count": null,
      "outputs": []
    },
    {
      "cell_type": "code",
      "metadata": {
        "id": "INk_pD-Rz1rh",
        "colab": {
          "base_uri": "https://localhost:8080/"
        },
        "outputId": "ad34513b-2730-44e0-8da5-d753e3a3e619"
      },
      "source": [
        "mean_squared_error(label,pred1)"
      ],
      "execution_count": null,
      "outputs": [
        {
          "output_type": "execute_result",
          "data": {
            "text/plain": [
              "29.07972739320686"
            ]
          },
          "metadata": {
            "tags": []
          },
          "execution_count": 460
        }
      ]
    },
    {
      "cell_type": "code",
      "metadata": {
        "id": "LmI7f7g4ygxe",
        "colab": {
          "base_uri": "https://localhost:8080/",
          "height": 424
        },
        "outputId": "b8adcc0f-8ace-446f-e482-9212abc90560"
      },
      "source": [
        "test1"
      ],
      "execution_count": null,
      "outputs": [
        {
          "output_type": "execute_result",
          "data": {
            "text/html": [
              "<div>\n",
              "<style scoped>\n",
              "    .dataframe tbody tr th:only-of-type {\n",
              "        vertical-align: middle;\n",
              "    }\n",
              "\n",
              "    .dataframe tbody tr th {\n",
              "        vertical-align: top;\n",
              "    }\n",
              "\n",
              "    .dataframe thead th {\n",
              "        text-align: right;\n",
              "    }\n",
              "</style>\n",
              "<table border=\"1\" class=\"dataframe\">\n",
              "  <thead>\n",
              "    <tr style=\"text-align: right;\">\n",
              "      <th></th>\n",
              "      <th>true</th>\n",
              "      <th>pred</th>\n",
              "    </tr>\n",
              "  </thead>\n",
              "  <tbody>\n",
              "    <tr>\n",
              "      <th>997</th>\n",
              "      <td>31.8</td>\n",
              "      <td>29.596944</td>\n",
              "    </tr>\n",
              "    <tr>\n",
              "      <th>1611</th>\n",
              "      <td>31.8</td>\n",
              "      <td>28.569501</td>\n",
              "    </tr>\n",
              "    <tr>\n",
              "      <th>1946</th>\n",
              "      <td>28.2</td>\n",
              "      <td>30.253307</td>\n",
              "    </tr>\n",
              "    <tr>\n",
              "      <th>4889</th>\n",
              "      <td>42.5</td>\n",
              "      <td>27.330092</td>\n",
              "    </tr>\n",
              "    <tr>\n",
              "      <th>766</th>\n",
              "      <td>34.3</td>\n",
              "      <td>30.123362</td>\n",
              "    </tr>\n",
              "    <tr>\n",
              "      <th>...</th>\n",
              "      <td>...</td>\n",
              "      <td>...</td>\n",
              "    </tr>\n",
              "    <tr>\n",
              "      <th>721</th>\n",
              "      <td>23.5</td>\n",
              "      <td>27.276030</td>\n",
              "    </tr>\n",
              "    <tr>\n",
              "      <th>2832</th>\n",
              "      <td>37.5</td>\n",
              "      <td>26.691676</td>\n",
              "    </tr>\n",
              "    <tr>\n",
              "      <th>4489</th>\n",
              "      <td>24.9</td>\n",
              "      <td>29.376870</td>\n",
              "    </tr>\n",
              "    <tr>\n",
              "      <th>3923</th>\n",
              "      <td>31.1</td>\n",
              "      <td>28.317744</td>\n",
              "    </tr>\n",
              "    <tr>\n",
              "      <th>3602</th>\n",
              "      <td>26.6</td>\n",
              "      <td>28.021175</td>\n",
              "    </tr>\n",
              "  </tbody>\n",
              "</table>\n",
              "<p>953 rows × 2 columns</p>\n",
              "</div>"
            ],
            "text/plain": [
              "      true       pred\n",
              "997   31.8  29.596944\n",
              "1611  31.8  28.569501\n",
              "1946  28.2  30.253307\n",
              "4889  42.5  27.330092\n",
              "766   34.3  30.123362\n",
              "...    ...        ...\n",
              "721   23.5  27.276030\n",
              "2832  37.5  26.691676\n",
              "4489  24.9  29.376870\n",
              "3923  31.1  28.317744\n",
              "3602  26.6  28.021175\n",
              "\n",
              "[953 rows x 2 columns]"
            ]
          },
          "metadata": {
            "tags": []
          },
          "execution_count": 461
        }
      ]
    },
    {
      "cell_type": "code",
      "metadata": {
        "id": "1CIRX0m2J5_7",
        "colab": {
          "base_uri": "https://localhost:8080/",
          "height": 206
        },
        "outputId": "ea2b1415-56b7-4cac-dc70-32899cd8eb1a"
      },
      "source": [
        "p_data.head()"
      ],
      "execution_count": null,
      "outputs": [
        {
          "output_type": "execute_result",
          "data": {
            "text/html": [
              "<div>\n",
              "<style scoped>\n",
              "    .dataframe tbody tr th:only-of-type {\n",
              "        vertical-align: middle;\n",
              "    }\n",
              "\n",
              "    .dataframe tbody tr th {\n",
              "        vertical-align: top;\n",
              "    }\n",
              "\n",
              "    .dataframe thead th {\n",
              "        text-align: right;\n",
              "    }\n",
              "</style>\n",
              "<table border=\"1\" class=\"dataframe\">\n",
              "  <thead>\n",
              "    <tr style=\"text-align: right;\">\n",
              "      <th></th>\n",
              "      <th>gender</th>\n",
              "      <th>hypertension</th>\n",
              "      <th>heart_disease</th>\n",
              "      <th>ever_married</th>\n",
              "      <th>work_type</th>\n",
              "      <th>Residence_type</th>\n",
              "      <th>bmi</th>\n",
              "      <th>smoking_status</th>\n",
              "      <th>stroke</th>\n",
              "      <th>age_cat</th>\n",
              "      <th>glucose_cat</th>\n",
              "    </tr>\n",
              "  </thead>\n",
              "  <tbody>\n",
              "    <tr>\n",
              "      <th>1</th>\n",
              "      <td>Female</td>\n",
              "      <td>0</td>\n",
              "      <td>0</td>\n",
              "      <td>Yes</td>\n",
              "      <td>Self-employed</td>\n",
              "      <td>Rural</td>\n",
              "      <td>NaN</td>\n",
              "      <td>never smoked</td>\n",
              "      <td>1</td>\n",
              "      <td>Mid Adults</td>\n",
              "      <td>High</td>\n",
              "    </tr>\n",
              "    <tr>\n",
              "      <th>8</th>\n",
              "      <td>Female</td>\n",
              "      <td>0</td>\n",
              "      <td>0</td>\n",
              "      <td>Yes</td>\n",
              "      <td>Private</td>\n",
              "      <td>Rural</td>\n",
              "      <td>NaN</td>\n",
              "      <td>Unknown</td>\n",
              "      <td>1</td>\n",
              "      <td>Mid Adults</td>\n",
              "      <td>Low</td>\n",
              "    </tr>\n",
              "    <tr>\n",
              "      <th>13</th>\n",
              "      <td>Male</td>\n",
              "      <td>0</td>\n",
              "      <td>1</td>\n",
              "      <td>Yes</td>\n",
              "      <td>Private</td>\n",
              "      <td>Urban</td>\n",
              "      <td>NaN</td>\n",
              "      <td>Unknown</td>\n",
              "      <td>1</td>\n",
              "      <td>Elderly</td>\n",
              "      <td>High</td>\n",
              "    </tr>\n",
              "    <tr>\n",
              "      <th>19</th>\n",
              "      <td>Male</td>\n",
              "      <td>0</td>\n",
              "      <td>1</td>\n",
              "      <td>No</td>\n",
              "      <td>Govt_job</td>\n",
              "      <td>Urban</td>\n",
              "      <td>NaN</td>\n",
              "      <td>Unknown</td>\n",
              "      <td>1</td>\n",
              "      <td>Mid Adults</td>\n",
              "      <td>High</td>\n",
              "    </tr>\n",
              "    <tr>\n",
              "      <th>27</th>\n",
              "      <td>Male</td>\n",
              "      <td>0</td>\n",
              "      <td>0</td>\n",
              "      <td>Yes</td>\n",
              "      <td>Private</td>\n",
              "      <td>Rural</td>\n",
              "      <td>NaN</td>\n",
              "      <td>Unknown</td>\n",
              "      <td>1</td>\n",
              "      <td>Mid Adults</td>\n",
              "      <td>High</td>\n",
              "    </tr>\n",
              "  </tbody>\n",
              "</table>\n",
              "</div>"
            ],
            "text/plain": [
              "    gender  hypertension  heart_disease  ... stroke     age_cat glucose_cat\n",
              "1   Female             0              0  ...      1  Mid Adults        High\n",
              "8   Female             0              0  ...      1  Mid Adults         Low\n",
              "13    Male             0              1  ...      1     Elderly        High\n",
              "19    Male             0              1  ...      1  Mid Adults        High\n",
              "27    Male             0              0  ...      1  Mid Adults        High\n",
              "\n",
              "[5 rows x 11 columns]"
            ]
          },
          "metadata": {
            "tags": []
          },
          "execution_count": 462
        }
      ]
    },
    {
      "cell_type": "code",
      "metadata": {
        "id": "Qau8t2ESJ_uw",
        "colab": {
          "base_uri": "https://localhost:8080/"
        },
        "outputId": "9fd45e22-fa79-41c3-d137-acc32dcd4f99"
      },
      "source": [
        "p_data.drop(columns='bmi',inplace=True)"
      ],
      "execution_count": null,
      "outputs": [
        {
          "output_type": "stream",
          "text": [
            "/usr/local/lib/python3.7/dist-packages/pandas/core/frame.py:4174: SettingWithCopyWarning: \n",
            "A value is trying to be set on a copy of a slice from a DataFrame\n",
            "\n",
            "See the caveats in the documentation: https://pandas.pydata.org/pandas-docs/stable/user_guide/indexing.html#returning-a-view-versus-a-copy\n",
            "  errors=errors,\n"
          ],
          "name": "stderr"
        }
      ]
    },
    {
      "cell_type": "code",
      "metadata": {
        "id": "61_qWQVONt5O",
        "colab": {
          "base_uri": "https://localhost:8080/",
          "height": 206
        },
        "outputId": "ed544dbc-598c-4b2c-df36-fe26359fe306"
      },
      "source": [
        "p_data.head()"
      ],
      "execution_count": null,
      "outputs": [
        {
          "output_type": "execute_result",
          "data": {
            "text/html": [
              "<div>\n",
              "<style scoped>\n",
              "    .dataframe tbody tr th:only-of-type {\n",
              "        vertical-align: middle;\n",
              "    }\n",
              "\n",
              "    .dataframe tbody tr th {\n",
              "        vertical-align: top;\n",
              "    }\n",
              "\n",
              "    .dataframe thead th {\n",
              "        text-align: right;\n",
              "    }\n",
              "</style>\n",
              "<table border=\"1\" class=\"dataframe\">\n",
              "  <thead>\n",
              "    <tr style=\"text-align: right;\">\n",
              "      <th></th>\n",
              "      <th>gender</th>\n",
              "      <th>hypertension</th>\n",
              "      <th>heart_disease</th>\n",
              "      <th>ever_married</th>\n",
              "      <th>work_type</th>\n",
              "      <th>Residence_type</th>\n",
              "      <th>smoking_status</th>\n",
              "      <th>stroke</th>\n",
              "      <th>age_cat</th>\n",
              "      <th>glucose_cat</th>\n",
              "    </tr>\n",
              "  </thead>\n",
              "  <tbody>\n",
              "    <tr>\n",
              "      <th>1</th>\n",
              "      <td>Female</td>\n",
              "      <td>0</td>\n",
              "      <td>0</td>\n",
              "      <td>Yes</td>\n",
              "      <td>Self-employed</td>\n",
              "      <td>Rural</td>\n",
              "      <td>never smoked</td>\n",
              "      <td>1</td>\n",
              "      <td>Mid Adults</td>\n",
              "      <td>High</td>\n",
              "    </tr>\n",
              "    <tr>\n",
              "      <th>8</th>\n",
              "      <td>Female</td>\n",
              "      <td>0</td>\n",
              "      <td>0</td>\n",
              "      <td>Yes</td>\n",
              "      <td>Private</td>\n",
              "      <td>Rural</td>\n",
              "      <td>Unknown</td>\n",
              "      <td>1</td>\n",
              "      <td>Mid Adults</td>\n",
              "      <td>Low</td>\n",
              "    </tr>\n",
              "    <tr>\n",
              "      <th>13</th>\n",
              "      <td>Male</td>\n",
              "      <td>0</td>\n",
              "      <td>1</td>\n",
              "      <td>Yes</td>\n",
              "      <td>Private</td>\n",
              "      <td>Urban</td>\n",
              "      <td>Unknown</td>\n",
              "      <td>1</td>\n",
              "      <td>Elderly</td>\n",
              "      <td>High</td>\n",
              "    </tr>\n",
              "    <tr>\n",
              "      <th>19</th>\n",
              "      <td>Male</td>\n",
              "      <td>0</td>\n",
              "      <td>1</td>\n",
              "      <td>No</td>\n",
              "      <td>Govt_job</td>\n",
              "      <td>Urban</td>\n",
              "      <td>Unknown</td>\n",
              "      <td>1</td>\n",
              "      <td>Mid Adults</td>\n",
              "      <td>High</td>\n",
              "    </tr>\n",
              "    <tr>\n",
              "      <th>27</th>\n",
              "      <td>Male</td>\n",
              "      <td>0</td>\n",
              "      <td>0</td>\n",
              "      <td>Yes</td>\n",
              "      <td>Private</td>\n",
              "      <td>Rural</td>\n",
              "      <td>Unknown</td>\n",
              "      <td>1</td>\n",
              "      <td>Mid Adults</td>\n",
              "      <td>High</td>\n",
              "    </tr>\n",
              "  </tbody>\n",
              "</table>\n",
              "</div>"
            ],
            "text/plain": [
              "    gender  hypertension  heart_disease  ... stroke     age_cat glucose_cat\n",
              "1   Female             0              0  ...      1  Mid Adults        High\n",
              "8   Female             0              0  ...      1  Mid Adults         Low\n",
              "13    Male             0              1  ...      1     Elderly        High\n",
              "19    Male             0              1  ...      1  Mid Adults        High\n",
              "27    Male             0              0  ...      1  Mid Adults        High\n",
              "\n",
              "[5 rows x 10 columns]"
            ]
          },
          "metadata": {
            "tags": []
          },
          "execution_count": 464
        }
      ]
    },
    {
      "cell_type": "code",
      "metadata": {
        "id": "4zXCL6dMKJ_g"
      },
      "source": [
        "pred=model.predict(p_data)"
      ],
      "execution_count": null,
      "outputs": []
    },
    {
      "cell_type": "code",
      "metadata": {
        "id": "8RhiX1LkLEj6",
        "colab": {
          "base_uri": "https://localhost:8080/"
        },
        "outputId": "e4c74a7d-fc52-4e0d-c58b-410d574938fd"
      },
      "source": [
        "p_data['bmi']=pred"
      ],
      "execution_count": null,
      "outputs": [
        {
          "output_type": "stream",
          "text": [
            "/usr/local/lib/python3.7/dist-packages/ipykernel_launcher.py:1: SettingWithCopyWarning: \n",
            "A value is trying to be set on a copy of a slice from a DataFrame.\n",
            "Try using .loc[row_indexer,col_indexer] = value instead\n",
            "\n",
            "See the caveats in the documentation: https://pandas.pydata.org/pandas-docs/stable/user_guide/indexing.html#returning-a-view-versus-a-copy\n",
            "  \"\"\"Entry point for launching an IPython kernel.\n"
          ],
          "name": "stderr"
        }
      ]
    },
    {
      "cell_type": "code",
      "metadata": {
        "id": "ewnagAi4N_1h",
        "colab": {
          "base_uri": "https://localhost:8080/",
          "height": 55
        },
        "outputId": "4a7a03e1-fcd2-4b5a-efcb-3ad1c8538bff"
      },
      "source": [
        "'''sns.distplot((train['age']), hist = False, kde = True,\n",
        "            kde_kws = {'shade': True, 'linewidth': 2}, \n",
        "            label = \"Normal\", color =\"green\")'''"
      ],
      "execution_count": null,
      "outputs": [
        {
          "output_type": "execute_result",
          "data": {
            "application/vnd.google.colaboratory.intrinsic+json": {
              "type": "string"
            },
            "text/plain": [
              "'sns.distplot((train[\\'age\\']), hist = False, kde = True,\\n            kde_kws = {\\'shade\\': True, \\'linewidth\\': 2}, \\n            label = \"Normal\", color =\"green\")'"
            ]
          },
          "metadata": {
            "tags": []
          },
          "execution_count": 467
        }
      ]
    },
    {
      "cell_type": "code",
      "metadata": {
        "id": "OwiDUgHJaSgk"
      },
      "source": [
        "data_new = pd.concat([train_full, p_data], axis = 0)"
      ],
      "execution_count": null,
      "outputs": []
    },
    {
      "cell_type": "code",
      "metadata": {
        "colab": {
          "base_uri": "https://localhost:8080/"
        },
        "id": "B3aLhsxG640a",
        "outputId": "c395d58d-4450-4bf9-bdfe-2e7d563e2404"
      },
      "source": [
        "train_full['bmi'].describe()"
      ],
      "execution_count": null,
      "outputs": [
        {
          "output_type": "execute_result",
          "data": {
            "text/plain": [
              "count    4763.000000\n",
              "mean       28.177871\n",
              "std         6.685595\n",
              "min        10.300000\n",
              "25%        23.400000\n",
              "50%        27.800000\n",
              "75%        32.500000\n",
              "max        45.300000\n",
              "Name: bmi, dtype: float64"
            ]
          },
          "metadata": {
            "tags": []
          },
          "execution_count": 469
        }
      ]
    },
    {
      "cell_type": "code",
      "metadata": {
        "id": "3DLlMpaZAxjE"
      },
      "source": [
        "\n",
        "data_new['bmi_cat'] = pd.cut(data_new['bmi'], bins = [0, 15, 20,24,28,33,38,10000], labels = ['weak','Underweight','not good','Ideal','perfect' ,'Overweight', 'Obesity'])"
      ],
      "execution_count": null,
      "outputs": []
    },
    {
      "cell_type": "code",
      "metadata": {
        "id": "G5iEQ0BnapLZ",
        "colab": {
          "base_uri": "https://localhost:8080/",
          "height": 243
        },
        "outputId": "2c281af2-a628-4bd3-aaee-1e152c85d8eb"
      },
      "source": [
        "data_new.head()"
      ],
      "execution_count": null,
      "outputs": [
        {
          "output_type": "execute_result",
          "data": {
            "text/html": [
              "<div>\n",
              "<style scoped>\n",
              "    .dataframe tbody tr th:only-of-type {\n",
              "        vertical-align: middle;\n",
              "    }\n",
              "\n",
              "    .dataframe tbody tr th {\n",
              "        vertical-align: top;\n",
              "    }\n",
              "\n",
              "    .dataframe thead th {\n",
              "        text-align: right;\n",
              "    }\n",
              "</style>\n",
              "<table border=\"1\" class=\"dataframe\">\n",
              "  <thead>\n",
              "    <tr style=\"text-align: right;\">\n",
              "      <th></th>\n",
              "      <th>gender</th>\n",
              "      <th>hypertension</th>\n",
              "      <th>heart_disease</th>\n",
              "      <th>ever_married</th>\n",
              "      <th>work_type</th>\n",
              "      <th>Residence_type</th>\n",
              "      <th>bmi</th>\n",
              "      <th>smoking_status</th>\n",
              "      <th>stroke</th>\n",
              "      <th>age_cat</th>\n",
              "      <th>glucose_cat</th>\n",
              "      <th>bmi_cat</th>\n",
              "    </tr>\n",
              "  </thead>\n",
              "  <tbody>\n",
              "    <tr>\n",
              "      <th>0</th>\n",
              "      <td>Male</td>\n",
              "      <td>0</td>\n",
              "      <td>1</td>\n",
              "      <td>Yes</td>\n",
              "      <td>Private</td>\n",
              "      <td>Urban</td>\n",
              "      <td>36.6</td>\n",
              "      <td>formerly smoked</td>\n",
              "      <td>1</td>\n",
              "      <td>Elderly</td>\n",
              "      <td>High</td>\n",
              "      <td>Overweight</td>\n",
              "    </tr>\n",
              "    <tr>\n",
              "      <th>2</th>\n",
              "      <td>Male</td>\n",
              "      <td>0</td>\n",
              "      <td>1</td>\n",
              "      <td>Yes</td>\n",
              "      <td>Private</td>\n",
              "      <td>Rural</td>\n",
              "      <td>32.5</td>\n",
              "      <td>never smoked</td>\n",
              "      <td>1</td>\n",
              "      <td>Elderly</td>\n",
              "      <td>medium</td>\n",
              "      <td>perfect</td>\n",
              "    </tr>\n",
              "    <tr>\n",
              "      <th>3</th>\n",
              "      <td>Female</td>\n",
              "      <td>0</td>\n",
              "      <td>0</td>\n",
              "      <td>Yes</td>\n",
              "      <td>Private</td>\n",
              "      <td>Urban</td>\n",
              "      <td>34.4</td>\n",
              "      <td>smokes</td>\n",
              "      <td>1</td>\n",
              "      <td>Adults</td>\n",
              "      <td>Normal</td>\n",
              "      <td>Overweight</td>\n",
              "    </tr>\n",
              "    <tr>\n",
              "      <th>4</th>\n",
              "      <td>Female</td>\n",
              "      <td>1</td>\n",
              "      <td>0</td>\n",
              "      <td>Yes</td>\n",
              "      <td>Self-employed</td>\n",
              "      <td>Rural</td>\n",
              "      <td>24.0</td>\n",
              "      <td>never smoked</td>\n",
              "      <td>1</td>\n",
              "      <td>Elderly</td>\n",
              "      <td>Normal</td>\n",
              "      <td>not good</td>\n",
              "    </tr>\n",
              "    <tr>\n",
              "      <th>5</th>\n",
              "      <td>Male</td>\n",
              "      <td>0</td>\n",
              "      <td>0</td>\n",
              "      <td>Yes</td>\n",
              "      <td>Private</td>\n",
              "      <td>Urban</td>\n",
              "      <td>29.0</td>\n",
              "      <td>formerly smoked</td>\n",
              "      <td>1</td>\n",
              "      <td>Elderly</td>\n",
              "      <td>High</td>\n",
              "      <td>perfect</td>\n",
              "    </tr>\n",
              "  </tbody>\n",
              "</table>\n",
              "</div>"
            ],
            "text/plain": [
              "   gender  hypertension  heart_disease  ...  age_cat glucose_cat     bmi_cat\n",
              "0    Male             0              1  ...  Elderly        High  Overweight\n",
              "2    Male             0              1  ...  Elderly      medium     perfect\n",
              "3  Female             0              0  ...   Adults      Normal  Overweight\n",
              "4  Female             1              0  ...  Elderly      Normal    not good\n",
              "5    Male             0              0  ...  Elderly        High     perfect\n",
              "\n",
              "[5 rows x 12 columns]"
            ]
          },
          "metadata": {
            "tags": []
          },
          "execution_count": 473
        }
      ]
    },
    {
      "cell_type": "code",
      "metadata": {
        "id": "YKsNVQgyM2B8",
        "colab": {
          "base_uri": "https://localhost:8080/",
          "height": 298
        },
        "outputId": "99366278-9a23-4c94-d40f-f66534fb140e"
      },
      "source": [
        "sns.countplot(x='stroke', data=df)"
      ],
      "execution_count": null,
      "outputs": [
        {
          "output_type": "execute_result",
          "data": {
            "text/plain": [
              "<matplotlib.axes._subplots.AxesSubplot at 0x7f70fa2e82d0>"
            ]
          },
          "metadata": {
            "tags": []
          },
          "execution_count": 474
        },
        {
          "output_type": "display_data",
          "data": {
            "image/png": "[encoded data removed]",
            "text/plain": [
              "<Figure size 432x288 with 1 Axes>"
            ]
          },
          "metadata": {
            "tags": [],
            "needs_background": "light"
          }
        }
      ]
    },
    {
      "cell_type": "code",
      "metadata": {
        "id": "QryO51k0yGgE",
        "colab": {
          "base_uri": "https://localhost:8080/"
        },
        "outputId": "2f96c260-a491-4e9c-af9d-b6164fc5eadc"
      },
      "source": [
        "!pip install imbalanced-learn\n",
        "from imblearn.over_sampling import RandomOverSampler"
      ],
      "execution_count": null,
      "outputs": [
        {
          "output_type": "stream",
          "text": [
            "Requirement already satisfied: imbalanced-learn in /usr/local/lib/python3.7/dist-packages (0.4.3)\n",
            "Requirement already satisfied: scipy>=0.13.3 in /usr/local/lib/python3.7/dist-packages (from imbalanced-learn) (1.4.1)\n",
            "Requirement already satisfied: numpy>=1.8.2 in /usr/local/lib/python3.7/dist-packages (from imbalanced-learn) (1.19.5)\n",
            "Requirement already satisfied: scikit-learn>=0.20 in /usr/local/lib/python3.7/dist-packages (from imbalanced-learn) (0.22.2.post1)\n",
            "Requirement already satisfied: joblib>=0.11 in /usr/local/lib/python3.7/dist-packages (from scikit-learn>=0.20->imbalanced-learn) (1.0.1)\n"
          ],
          "name": "stdout"
        }
      ]
    },
    {
      "cell_type": "code",
      "metadata": {
        "id": "jUYPMxZzyerw"
      },
      "source": [
        "oversample = RandomOverSampler(sampling_strategy=0.9)"
      ],
      "execution_count": null,
      "outputs": []
    },
    {
      "cell_type": "code",
      "metadata": {
        "id": "fyqi2CelBRCp"
      },
      "source": [
        "y=data_new.stroke\n",
        "train=data_new.drop(columns='stroke')"
      ],
      "execution_count": null,
      "outputs": []
    },
    {
      "cell_type": "code",
      "metadata": {
        "id": "uVMxba7CGO6g",
        "colab": {
          "base_uri": "https://localhost:8080/"
        },
        "outputId": "0c223b1a-9faa-466e-dfd3-ab552a9c23d6"
      },
      "source": [
        "data_new.isnull().sum()"
      ],
      "execution_count": null,
      "outputs": [
        {
          "output_type": "execute_result",
          "data": {
            "text/plain": [
              "gender            0\n",
              "hypertension      0\n",
              "heart_disease     0\n",
              "ever_married      0\n",
              "work_type         0\n",
              "Residence_type    0\n",
              "bmi               0\n",
              "smoking_status    0\n",
              "stroke            0\n",
              "age_cat           0\n",
              "glucose_cat       0\n",
              "bmi_cat           0\n",
              "dtype: int64"
            ]
          },
          "metadata": {
            "tags": []
          },
          "execution_count": 478
        }
      ]
    },
    {
      "cell_type": "code",
      "metadata": {
        "id": "y1Af8oRyGqmg",
        "colab": {
          "base_uri": "https://localhost:8080/"
        },
        "outputId": "d72f6b6e-9cc5-4528-b348-1ed2878f5eaf"
      },
      "source": [
        "X_over, y_over = oversample.fit_resample(train, y)"
      ],
      "execution_count": null,
      "outputs": [
        {
          "output_type": "stream",
          "text": [
            "/usr/local/lib/python3.7/dist-packages/sklearn/utils/deprecation.py:87: FutureWarning: Function safe_indexing is deprecated; safe_indexing is deprecated in version 0.22 and will be removed in version 0.24.\n",
            "  warnings.warn(msg, category=FutureWarning)\n"
          ],
          "name": "stderr"
        }
      ]
    },
    {
      "cell_type": "code",
      "metadata": {
        "id": "NZWMG-EPRVAa"
      },
      "source": [
        "x_over=pd.DataFrame(data=X_over,columns=train.columns)\n",
        "y_over=pd.DataFrame(data=y_over,columns=['stroke'])\n"
      ],
      "execution_count": null,
      "outputs": []
    },
    {
      "cell_type": "code",
      "metadata": {
        "id": "KTsaDCQP5vgu",
        "colab": {
          "base_uri": "https://localhost:8080/",
          "height": 206
        },
        "outputId": "a25e6ea9-31e8-413a-f21b-576942b213af"
      },
      "source": [
        "y_over.head()"
      ],
      "execution_count": null,
      "outputs": [
        {
          "output_type": "execute_result",
          "data": {
            "text/html": [
              "<div>\n",
              "<style scoped>\n",
              "    .dataframe tbody tr th:only-of-type {\n",
              "        vertical-align: middle;\n",
              "    }\n",
              "\n",
              "    .dataframe tbody tr th {\n",
              "        vertical-align: top;\n",
              "    }\n",
              "\n",
              "    .dataframe thead th {\n",
              "        text-align: right;\n",
              "    }\n",
              "</style>\n",
              "<table border=\"1\" class=\"dataframe\">\n",
              "  <thead>\n",
              "    <tr style=\"text-align: right;\">\n",
              "      <th></th>\n",
              "      <th>stroke</th>\n",
              "    </tr>\n",
              "  </thead>\n",
              "  <tbody>\n",
              "    <tr>\n",
              "      <th>0</th>\n",
              "      <td>1</td>\n",
              "    </tr>\n",
              "    <tr>\n",
              "      <th>1</th>\n",
              "      <td>1</td>\n",
              "    </tr>\n",
              "    <tr>\n",
              "      <th>2</th>\n",
              "      <td>1</td>\n",
              "    </tr>\n",
              "    <tr>\n",
              "      <th>3</th>\n",
              "      <td>1</td>\n",
              "    </tr>\n",
              "    <tr>\n",
              "      <th>4</th>\n",
              "      <td>1</td>\n",
              "    </tr>\n",
              "  </tbody>\n",
              "</table>\n",
              "</div>"
            ],
            "text/plain": [
              "   stroke\n",
              "0       1\n",
              "1       1\n",
              "2       1\n",
              "3       1\n",
              "4       1"
            ]
          },
          "metadata": {
            "tags": []
          },
          "execution_count": 481
        }
      ]
    },
    {
      "cell_type": "code",
      "metadata": {
        "id": "_qIYXhlI7yWw"
      },
      "source": [
        "data_over= pd.concat([x_over,y_over], axis = 1)"
      ],
      "execution_count": null,
      "outputs": []
    },
    {
      "cell_type": "code",
      "metadata": {
        "id": "dk7v3k3cWkvl",
        "colab": {
          "base_uri": "https://localhost:8080/"
        },
        "outputId": "77acf40c-f4e1-4a8b-eb9d-8c2d82ecee0b"
      },
      "source": [
        "data_over.drop(data_over[data_over['gender'] == 'Other'].index, inplace = True)\n",
        "data_over['gender'].unique()\n",
        "\n"
      ],
      "execution_count": null,
      "outputs": [
        {
          "output_type": "execute_result",
          "data": {
            "text/plain": [
              "array(['Male', 'Female'], dtype=object)"
            ]
          },
          "metadata": {
            "tags": []
          },
          "execution_count": 483
        }
      ]
    },
    {
      "cell_type": "code",
      "metadata": {
        "id": "LCxyrhWaRHxN",
        "colab": {
          "base_uri": "https://localhost:8080/",
          "height": 355
        },
        "outputId": "ca4bb2de-54ee-4226-b742-c8a12bafe7e4"
      },
      "source": [
        "sns.distplot((data_over['bmi']), hist = False, kde = True,\n",
        "            kde_kws = {'shade': True, 'linewidth': 2}, \n",
        "            label = \"Normal\", color =\"green\")"
      ],
      "execution_count": null,
      "outputs": [
        {
          "output_type": "stream",
          "text": [
            "/usr/local/lib/python3.7/dist-packages/seaborn/distributions.py:2557: FutureWarning: `distplot` is a deprecated function and will be removed in a future version. Please adapt your code to use either `displot` (a figure-level function with similar flexibility) or `kdeplot` (an axes-level function for kernel density plots).\n",
            "  warnings.warn(msg, FutureWarning)\n"
          ],
          "name": "stderr"
        },
        {
          "output_type": "execute_result",
          "data": {
            "text/plain": [
              "<matplotlib.axes._subplots.AxesSubplot at 0x7f70f42f7f10>"
            ]
          },
          "metadata": {
            "tags": []
          },
          "execution_count": 484
        },
        {
          "output_type": "display_data",
          "data": {
            "image/png": "[encoded data removed]",
            "text/plain": [
              "<Figure size 432x288 with 1 Axes>"
            ]
          },
          "metadata": {
            "tags": [],
            "needs_background": "light"
          }
        }
      ]
    },
    {
      "cell_type": "code",
      "metadata": {
        "id": "3AqcOLh_W_W1"
      },
      "source": [
        "data_over.drop(data_over[data_over['bmi'] > 47].index, inplace = True)"
      ],
      "execution_count": null,
      "outputs": []
    },
    {
      "cell_type": "code",
      "metadata": {
        "colab": {
          "base_uri": "https://localhost:8080/",
          "height": 355
        },
        "id": "kn8PHhsQHY_5",
        "outputId": "532f41b3-6643-4683-bb75-8ae59ec574bb"
      },
      "source": [
        "sns.distplot((data_over['bmi']), hist = False, kde = True,\n",
        "            kde_kws = {'shade': True, 'linewidth': 2}, \n",
        "            label = \"Normal\", color =\"green\")"
      ],
      "execution_count": null,
      "outputs": [
        {
          "output_type": "stream",
          "text": [
            "/usr/local/lib/python3.7/dist-packages/seaborn/distributions.py:2557: FutureWarning: `distplot` is a deprecated function and will be removed in a future version. Please adapt your code to use either `displot` (a figure-level function with similar flexibility) or `kdeplot` (an axes-level function for kernel density plots).\n",
            "  warnings.warn(msg, FutureWarning)\n"
          ],
          "name": "stderr"
        },
        {
          "output_type": "execute_result",
          "data": {
            "text/plain": [
              "<matplotlib.axes._subplots.AxesSubplot at 0x7f70f42c0d90>"
            ]
          },
          "metadata": {
            "tags": []
          },
          "execution_count": 486
        },
        {
          "output_type": "display_data",
          "data": {
            "image/png": "[encoded data removed]",
            "text/plain": [
              "<Figure size 432x288 with 1 Axes>"
            ]
          },
          "metadata": {
            "tags": [],
            "needs_background": "light"
          }
        }
      ]
    },
    {
      "cell_type": "code",
      "metadata": {
        "id": "0CwAFoZWCGMf"
      },
      "source": [
        "data_over.drop(columns='bmi',inplace=True)"
      ],
      "execution_count": null,
      "outputs": []
    },
    {
      "cell_type": "code",
      "metadata": {
        "id": "s_0QupEYb0-c"
      },
      "source": [
        "from sklearn.preprocessing import OneHotEncoder\n",
        "object_cols = [\"gender\",\"ever_married\",\"work_type\",\"Residence_type\",\"smoking_status\",\"bmi_cat\",\"age_cat\",\"glucose_cat\"]"
      ],
      "execution_count": null,
      "outputs": []
    },
    {
      "cell_type": "code",
      "metadata": {
        "id": "nm4DBmwJb7GK"
      },
      "source": [
        "label_encoder = OneHotEncoder(drop='first')"
      ],
      "execution_count": null,
      "outputs": []
    },
    {
      "cell_type": "code",
      "metadata": {
        "id": "-SslqQqRcC-U"
      },
      "source": [
        "data_over[label_encoder.get_feature_names()]=label_encoder.fit_transform(data_over[object_cols]).toarray()"
      ],
      "execution_count": null,
      "outputs": []
    },
    {
      "cell_type": "code",
      "metadata": {
        "id": "C2bBFvX8hhUt",
        "colab": {
          "base_uri": "https://localhost:8080/"
        },
        "outputId": "966e038d-d19d-4370-bd23-e577b5e7a677"
      },
      "source": [
        "label_encoder.get_feature_names()"
      ],
      "execution_count": null,
      "outputs": [
        {
          "output_type": "execute_result",
          "data": {
            "text/plain": [
              "array(['x0_Male', 'x1_Yes', 'x2_Never_worked', 'x2_Private',\n",
              "       'x2_Self-employed', 'x2_children', 'x3_Urban',\n",
              "       'x4_formerly smoked', 'x4_never smoked', 'x4_smokes', 'x5_Obesity',\n",
              "       'x5_Overweight', 'x5_Underweight', 'x5_not good', 'x5_perfect',\n",
              "       'x5_weak', 'x6_Children', 'x6_Elderly', 'x6_Mid Adults',\n",
              "       'x6_Teens', 'x6_baby', 'x6_young', 'x7_Low', 'x7_Normal',\n",
              "       'x7_Very High', 'x7_medium'], dtype=object)"
            ]
          },
          "metadata": {
            "tags": []
          },
          "execution_count": 491
        }
      ]
    },
    {
      "cell_type": "code",
      "metadata": {
        "colab": {
          "base_uri": "https://localhost:8080/"
        },
        "id": "mNc_CsTRG994",
        "outputId": "6a48bc5d-7b69-4b79-d297-d28954baca5a"
      },
      "source": [
        "len(label_encoder.get_feature_names())"
      ],
      "execution_count": null,
      "outputs": [
        {
          "output_type": "execute_result",
          "data": {
            "text/plain": [
              "26"
            ]
          },
          "metadata": {
            "tags": []
          },
          "execution_count": 492
        }
      ]
    },
    {
      "cell_type": "code",
      "metadata": {
        "id": "tfxosR70cpiY",
        "colab": {
          "base_uri": "https://localhost:8080/",
          "height": 261
        },
        "outputId": "a0e35920-7467-40bb-fdfe-7bcfb526e330"
      },
      "source": [
        "data_over.head()"
      ],
      "execution_count": null,
      "outputs": [
        {
          "output_type": "execute_result",
          "data": {
            "text/html": [
              "<div>\n",
              "<style scoped>\n",
              "    .dataframe tbody tr th:only-of-type {\n",
              "        vertical-align: middle;\n",
              "    }\n",
              "\n",
              "    .dataframe tbody tr th {\n",
              "        vertical-align: top;\n",
              "    }\n",
              "\n",
              "    .dataframe thead th {\n",
              "        text-align: right;\n",
              "    }\n",
              "</style>\n",
              "<table border=\"1\" class=\"dataframe\">\n",
              "  <thead>\n",
              "    <tr style=\"text-align: right;\">\n",
              "      <th></th>\n",
              "      <th>gender</th>\n",
              "      <th>hypertension</th>\n",
              "      <th>heart_disease</th>\n",
              "      <th>ever_married</th>\n",
              "      <th>work_type</th>\n",
              "      <th>Residence_type</th>\n",
              "      <th>smoking_status</th>\n",
              "      <th>age_cat</th>\n",
              "      <th>glucose_cat</th>\n",
              "      <th>bmi_cat</th>\n",
              "      <th>stroke</th>\n",
              "      <th>x0_Male</th>\n",
              "      <th>x1_Yes</th>\n",
              "      <th>x2_Never_worked</th>\n",
              "      <th>x2_Private</th>\n",
              "      <th>x2_Self-employed</th>\n",
              "      <th>x2_children</th>\n",
              "      <th>x3_Urban</th>\n",
              "      <th>x4_formerly smoked</th>\n",
              "      <th>x4_never smoked</th>\n",
              "      <th>x4_smokes</th>\n",
              "      <th>x5_Obesity</th>\n",
              "      <th>x5_Overweight</th>\n",
              "      <th>x5_Underweight</th>\n",
              "      <th>x5_not good</th>\n",
              "      <th>x5_perfect</th>\n",
              "      <th>x5_weak</th>\n",
              "      <th>x6_Children</th>\n",
              "      <th>x6_Elderly</th>\n",
              "      <th>x6_Mid Adults</th>\n",
              "      <th>x6_Teens</th>\n",
              "      <th>x6_baby</th>\n",
              "      <th>x6_young</th>\n",
              "      <th>x7_Low</th>\n",
              "      <th>x7_Normal</th>\n",
              "      <th>x7_Very High</th>\n",
              "      <th>x7_medium</th>\n",
              "    </tr>\n",
              "  </thead>\n",
              "  <tbody>\n",
              "    <tr>\n",
              "      <th>0</th>\n",
              "      <td>Male</td>\n",
              "      <td>0</td>\n",
              "      <td>1</td>\n",
              "      <td>Yes</td>\n",
              "      <td>Private</td>\n",
              "      <td>Urban</td>\n",
              "      <td>formerly smoked</td>\n",
              "      <td>Elderly</td>\n",
              "      <td>High</td>\n",
              "      <td>Overweight</td>\n",
              "      <td>1</td>\n",
              "      <td>1.0</td>\n",
              "      <td>1.0</td>\n",
              "      <td>0.0</td>\n",
              "      <td>1.0</td>\n",
              "      <td>0.0</td>\n",
              "      <td>0.0</td>\n",
              "      <td>1.0</td>\n",
              "      <td>1.0</td>\n",
              "      <td>0.0</td>\n",
              "      <td>0.0</td>\n",
              "      <td>0.0</td>\n",
              "      <td>1.0</td>\n",
              "      <td>0.0</td>\n",
              "      <td>0.0</td>\n",
              "      <td>0.0</td>\n",
              "      <td>0.0</td>\n",
              "      <td>0.0</td>\n",
              "      <td>1.0</td>\n",
              "      <td>0.0</td>\n",
              "      <td>0.0</td>\n",
              "      <td>0.0</td>\n",
              "      <td>0.0</td>\n",
              "      <td>0.0</td>\n",
              "      <td>0.0</td>\n",
              "      <td>0.0</td>\n",
              "      <td>0.0</td>\n",
              "    </tr>\n",
              "    <tr>\n",
              "      <th>1</th>\n",
              "      <td>Male</td>\n",
              "      <td>0</td>\n",
              "      <td>1</td>\n",
              "      <td>Yes</td>\n",
              "      <td>Private</td>\n",
              "      <td>Rural</td>\n",
              "      <td>never smoked</td>\n",
              "      <td>Elderly</td>\n",
              "      <td>medium</td>\n",
              "      <td>perfect</td>\n",
              "      <td>1</td>\n",
              "      <td>1.0</td>\n",
              "      <td>1.0</td>\n",
              "      <td>0.0</td>\n",
              "      <td>1.0</td>\n",
              "      <td>0.0</td>\n",
              "      <td>0.0</td>\n",
              "      <td>0.0</td>\n",
              "      <td>0.0</td>\n",
              "      <td>1.0</td>\n",
              "      <td>0.0</td>\n",
              "      <td>0.0</td>\n",
              "      <td>0.0</td>\n",
              "      <td>0.0</td>\n",
              "      <td>0.0</td>\n",
              "      <td>1.0</td>\n",
              "      <td>0.0</td>\n",
              "      <td>0.0</td>\n",
              "      <td>1.0</td>\n",
              "      <td>0.0</td>\n",
              "      <td>0.0</td>\n",
              "      <td>0.0</td>\n",
              "      <td>0.0</td>\n",
              "      <td>0.0</td>\n",
              "      <td>0.0</td>\n",
              "      <td>0.0</td>\n",
              "      <td>1.0</td>\n",
              "    </tr>\n",
              "    <tr>\n",
              "      <th>2</th>\n",
              "      <td>Female</td>\n",
              "      <td>0</td>\n",
              "      <td>0</td>\n",
              "      <td>Yes</td>\n",
              "      <td>Private</td>\n",
              "      <td>Urban</td>\n",
              "      <td>smokes</td>\n",
              "      <td>Adults</td>\n",
              "      <td>Normal</td>\n",
              "      <td>Overweight</td>\n",
              "      <td>1</td>\n",
              "      <td>0.0</td>\n",
              "      <td>1.0</td>\n",
              "      <td>0.0</td>\n",
              "      <td>1.0</td>\n",
              "      <td>0.0</td>\n",
              "      <td>0.0</td>\n",
              "      <td>1.0</td>\n",
              "      <td>0.0</td>\n",
              "      <td>0.0</td>\n",
              "      <td>1.0</td>\n",
              "      <td>0.0</td>\n",
              "      <td>1.0</td>\n",
              "      <td>0.0</td>\n",
              "      <td>0.0</td>\n",
              "      <td>0.0</td>\n",
              "      <td>0.0</td>\n",
              "      <td>0.0</td>\n",
              "      <td>0.0</td>\n",
              "      <td>0.0</td>\n",
              "      <td>0.0</td>\n",
              "      <td>0.0</td>\n",
              "      <td>0.0</td>\n",
              "      <td>0.0</td>\n",
              "      <td>1.0</td>\n",
              "      <td>0.0</td>\n",
              "      <td>0.0</td>\n",
              "    </tr>\n",
              "    <tr>\n",
              "      <th>3</th>\n",
              "      <td>Female</td>\n",
              "      <td>1</td>\n",
              "      <td>0</td>\n",
              "      <td>Yes</td>\n",
              "      <td>Self-employed</td>\n",
              "      <td>Rural</td>\n",
              "      <td>never smoked</td>\n",
              "      <td>Elderly</td>\n",
              "      <td>Normal</td>\n",
              "      <td>not good</td>\n",
              "      <td>1</td>\n",
              "      <td>0.0</td>\n",
              "      <td>1.0</td>\n",
              "      <td>0.0</td>\n",
              "      <td>0.0</td>\n",
              "      <td>1.0</td>\n",
              "      <td>0.0</td>\n",
              "      <td>0.0</td>\n",
              "      <td>0.0</td>\n",
              "      <td>1.0</td>\n",
              "      <td>0.0</td>\n",
              "      <td>0.0</td>\n",
              "      <td>0.0</td>\n",
              "      <td>0.0</td>\n",
              "      <td>1.0</td>\n",
              "      <td>0.0</td>\n",
              "      <td>0.0</td>\n",
              "      <td>0.0</td>\n",
              "      <td>1.0</td>\n",
              "      <td>0.0</td>\n",
              "      <td>0.0</td>\n",
              "      <td>0.0</td>\n",
              "      <td>0.0</td>\n",
              "      <td>0.0</td>\n",
              "      <td>1.0</td>\n",
              "      <td>0.0</td>\n",
              "      <td>0.0</td>\n",
              "    </tr>\n",
              "    <tr>\n",
              "      <th>4</th>\n",
              "      <td>Male</td>\n",
              "      <td>0</td>\n",
              "      <td>0</td>\n",
              "      <td>Yes</td>\n",
              "      <td>Private</td>\n",
              "      <td>Urban</td>\n",
              "      <td>formerly smoked</td>\n",
              "      <td>Elderly</td>\n",
              "      <td>High</td>\n",
              "      <td>perfect</td>\n",
              "      <td>1</td>\n",
              "      <td>1.0</td>\n",
              "      <td>1.0</td>\n",
              "      <td>0.0</td>\n",
              "      <td>1.0</td>\n",
              "      <td>0.0</td>\n",
              "      <td>0.0</td>\n",
              "      <td>1.0</td>\n",
              "      <td>1.0</td>\n",
              "      <td>0.0</td>\n",
              "      <td>0.0</td>\n",
              "      <td>0.0</td>\n",
              "      <td>0.0</td>\n",
              "      <td>0.0</td>\n",
              "      <td>0.0</td>\n",
              "      <td>1.0</td>\n",
              "      <td>0.0</td>\n",
              "      <td>0.0</td>\n",
              "      <td>1.0</td>\n",
              "      <td>0.0</td>\n",
              "      <td>0.0</td>\n",
              "      <td>0.0</td>\n",
              "      <td>0.0</td>\n",
              "      <td>0.0</td>\n",
              "      <td>0.0</td>\n",
              "      <td>0.0</td>\n",
              "      <td>0.0</td>\n",
              "    </tr>\n",
              "  </tbody>\n",
              "</table>\n",
              "</div>"
            ],
            "text/plain": [
              "   gender hypertension heart_disease  ... x7_Normal x7_Very High x7_medium\n",
              "0    Male            0             1  ...       0.0          0.0       0.0\n",
              "1    Male            0             1  ...       0.0          0.0       1.0\n",
              "2  Female            0             0  ...       1.0          0.0       0.0\n",
              "3  Female            1             0  ...       1.0          0.0       0.0\n",
              "4    Male            0             0  ...       0.0          0.0       0.0\n",
              "\n",
              "[5 rows x 37 columns]"
            ]
          },
          "metadata": {
            "tags": []
          },
          "execution_count": 493
        }
      ]
    },
    {
      "cell_type": "code",
      "metadata": {
        "id": "Red3WXG8vJkP"
      },
      "source": [
        "data_over.drop(columns=object_cols,inplace=True)"
      ],
      "execution_count": null,
      "outputs": []
    },
    {
      "cell_type": "code",
      "metadata": {
        "id": "Rv0na08I-Snj"
      },
      "source": [
        "y_over=data_over.stroke"
      ],
      "execution_count": null,
      "outputs": []
    },
    {
      "cell_type": "code",
      "metadata": {
        "id": "1RLYaMdOARYR"
      },
      "source": [
        "data_over.drop(columns='stroke',inplace=True)"
      ],
      "execution_count": null,
      "outputs": []
    },
    {
      "cell_type": "code",
      "metadata": {
        "id": "b05VulEZAAXM"
      },
      "source": [
        "train_x,test_x,train_y,test_y=train_test_split(data_over,y_over,test_size=0.20,shuffle=True)"
      ],
      "execution_count": null,
      "outputs": []
    },
    {
      "cell_type": "code",
      "metadata": {
        "id": "6LBX5XYu1bUl"
      },
      "source": [
        "from sklearn.svm import SVC\n",
        "from sklearn.metrics import accuracy_score\n",
        "from sklearn.metrics import log_loss\n",
        "from sklearn.linear_model import LogisticRegression"
      ],
      "execution_count": null,
      "outputs": []
    },
    {
      "cell_type": "code",
      "metadata": {
        "id": "p5zzDhj41yTy"
      },
      "source": [
        "#model=SVC(kernel='poly',degree=10)\n",
        "#model=LogisticRegression(C=0.08,max_iter=500)\n",
        "model=SVC(C=1.5,kernel='poly',degree=9)"
      ],
      "execution_count": null,
      "outputs": []
    },
    {
      "cell_type": "code",
      "metadata": {
        "id": "lcagJ-fG13XF",
        "colab": {
          "base_uri": "https://localhost:8080/"
        },
        "outputId": "8d80903c-0955-4297-938d-6ade410015e9"
      },
      "source": [
        "model.fit(train_x,train_y)"
      ],
      "execution_count": null,
      "outputs": [
        {
          "output_type": "execute_result",
          "data": {
            "text/plain": [
              "SVC(C=1.5, break_ties=False, cache_size=200, class_weight=None, coef0=0.0,\n",
              "    decision_function_shape='ovr', degree=9, gamma='scale', kernel='poly',\n",
              "    max_iter=-1, probability=False, random_state=None, shrinking=True,\n",
              "    tol=0.001, verbose=False)"
            ]
          },
          "metadata": {
            "tags": []
          },
          "execution_count": 558
        }
      ]
    },
    {
      "cell_type": "code",
      "metadata": {
        "id": "_BBxVp0_AmRG"
      },
      "source": [
        "pred=model.predict(test_x)"
      ],
      "execution_count": null,
      "outputs": []
    },
    {
      "cell_type": "code",
      "metadata": {
        "id": "KNFSUz7a_to3",
        "colab": {
          "base_uri": "https://localhost:8080/"
        },
        "outputId": "eda3759f-b485-460d-d7e9-7a99eeaaff4c"
      },
      "source": [
        "log_loss(test_y,pred)"
      ],
      "execution_count": null,
      "outputs": [
        {
          "output_type": "execute_result",
          "data": {
            "text/plain": [
              "1.8867679240264066"
            ]
          },
          "metadata": {
            "tags": []
          },
          "execution_count": 560
        }
      ]
    },
    {
      "cell_type": "code",
      "metadata": {
        "colab": {
          "base_uri": "https://localhost:8080/"
        },
        "id": "0sW2YaKJEkqr",
        "outputId": "e1bc1fed-e2e9-438a-ede3-5c0aeba8534a"
      },
      "source": [
        "accuracy_score(test_y,pred)"
      ],
      "execution_count": null,
      "outputs": [
        {
          "output_type": "execute_result",
          "data": {
            "text/plain": [
              "0.9453734671125975"
            ]
          },
          "metadata": {
            "tags": []
          },
          "execution_count": 561
        }
      ]
    }
  ]
}